{
 "cells": [
  {
   "cell_type": "markdown",
   "id": "c223c3e2",
   "metadata": {},
   "source": [
    "# 📊 Stock Price Prediction using Machine Learning\n",
    "**Objective:** Predict the next day's closing price using various ML models.\n",
    "- Data Preprocessing\n",
    "- Feature Engineering\n",
    "- Model Training & Evaluation\n"
   ]
  },
  {
   "cell_type": "markdown",
   "id": "f7b2fa9b",
   "metadata": {},
   "source": [
    "## 📌 1. Importing Libraries & Loading Data"
   ]
  },
  {
   "cell_type": "markdown",
   "id": "5361bacb",
   "metadata": {},
   "source": [
    "### 📌 2. Data Preprocessing\n",
    "- Convert Date column to datetime format\n",
    "- Handle missing values\n",
    "- Set Date as index"
   ]
  },
  {
   "cell_type": "markdown",
   "id": "afc09688",
   "metadata": {},
   "source": [
    "### 📌 3. Feature Engineering\n",
    "- Moving Averages (MA5, MA10)\n",
    "- RSI, MACD, Bollinger Bands\n",
    "- One-hot encoding for categorical variables\n"
   ]
  },
  {
   "cell_type": "markdown",
   "id": "eccb73a2",
   "metadata": {},
   "source": [
    "### 📌 4. Train-Test Split & Scaling\n",
    "- Split data into training and testing sets\n",
    "- Apply StandardScaler to normalize data"
   ]
  },
  {
   "cell_type": "markdown",
   "id": "0c99321f",
   "metadata": {},
   "source": [
    "### 📌 5. Model Training & Evaluation\n",
    "- Linear Regression\n",
    "- XGBoost\n",
    "- LightGBM\n",
    "- Decision Tree\n"
   ]
  },
  {
   "cell_type": "markdown",
   "id": "e4553094",
   "metadata": {},
   "source": [
    "### 📌 6. Model Performance Comparison\n",
    "- Compare models using MAE, RMSE, and R² scores\n",
    "- Identify the best model based on generalization performance"
   ]
  },
  {
   "cell_type": "markdown",
   "id": "a5d58ce8",
   "metadata": {},
   "source": [
    "### 📌 7. Final Visualization\n",
    "- Scatter plot of real vs predicted values\n",
    "- Line plot for stock price trends"
   ]
  },
  {
   "cell_type": "code",
   "execution_count": 55,
   "metadata": {
    "_cell_guid": "b1076dfc-b9ad-4769-8c92-a6c4dae69d19",
    "_uuid": "8f2839f25d086af736a60e9eeb907d3b93b6e0e5",
    "execution": {
     "iopub.execute_input": "2025-02-04T12:06:47.195831Z",
     "iopub.status.busy": "2025-02-04T12:06:47.195448Z",
     "iopub.status.idle": "2025-02-04T12:06:47.203556Z",
     "shell.execute_reply": "2025-02-04T12:06:47.202530Z",
     "shell.execute_reply.started": "2025-02-04T12:06:47.195800Z"
    }
   },
   "outputs": [
    {
     "name": "stdout",
     "output_type": "stream",
     "text": [
      "/kaggle/input/stock-market-analysis-data/stocks.csv\n"
     ]
    }
   ],
   "source": [
    "# This Python 3 environment comes with many helpful analytics libraries installed\n",
    "# It is defined by the kaggle/python Docker image: https://github.com/kaggle/docker-python\n",
    "# For example, here's several helpful packages to load\n",
    "\n",
    "import numpy as np # linear algebra\n",
    "import pandas as pd # data processing, CSV file I/O (e.g. pd.read_csv)\n",
    "\n",
    "# Input data files are available in the read-only \"../input/\" directory\n",
    "# For example, running this (by clicking run or pressing Shift+Enter) will list all files under the input directory\n",
    "\n",
    "import os\n",
    "for dirname, _, filenames in os.walk('/kaggle/input'):\n",
    "    for filename in filenames:\n",
    "        print(os.path.join(dirname, filename))\n",
    "\n",
    "# You can write up to 20GB to the current directory (/kaggle/working/) that gets preserved as output when you create a version using \"Save & Run All\" \n",
    "# You can also write temporary files to /kaggle/temp/, but they won't be saved outside of the current session"
   ]
  },
  {
   "cell_type": "code",
   "execution_count": 124,
   "metadata": {
    "execution": {
     "iopub.execute_input": "2025-02-04T12:21:52.613918Z",
     "iopub.status.busy": "2025-02-04T12:21:52.613355Z",
     "iopub.status.idle": "2025-02-04T12:21:52.625062Z",
     "shell.execute_reply": "2025-02-04T12:21:52.623128Z",
     "shell.execute_reply.started": "2025-02-04T12:21:52.613878Z"
    }
   },
   "outputs": [],
   "source": [
    "import pandas as pd\n",
    "import numpy as np\n",
    "import seaborn as sns\n",
    "%matplotlib inline\n",
    "import matplotlib.pyplot as plt\n",
    "from sklearn.model_selection import train_test_split, GridSearchCV, cross_validate, validation_curve, \\\n",
    "    RandomizedSearchCV, learning_curve\n",
    "from sklearn.preprocessing import StandardScaler\n",
    "from sklearn.linear_model import LinearRegression\n",
    "from sklearn.ensemble import RandomForestRegressor\n",
    "from lightgbm import LGBMRegressor\n",
    "from xgboost import XGBRegressor\n",
    "from sklearn.tree import DecisionTreeRegressor\n",
    "from sklearn.metrics import mean_absolute_error, mean_squared_error, r2_score\n",
    "from sklearn.metrics import RocCurveDisplay\n",
    "import joblib\n",
    "from sklearn.impute import KNNImputer\n",
    "import calendar\n",
    "import warnings\n",
    "warnings.simplefilter(action='ignore', category=FutureWarning)\n",
    "warnings.simplefilter(action='ignore', category=UserWarning)\n",
    "\n"
   ]
  },
  {
   "cell_type": "code",
   "execution_count": 57,
   "metadata": {
    "execution": {
     "iopub.execute_input": "2025-02-04T12:06:50.858952Z",
     "iopub.status.busy": "2025-02-04T12:06:50.858566Z",
     "iopub.status.idle": "2025-02-04T12:06:50.877032Z",
     "shell.execute_reply": "2025-02-04T12:06:50.875800Z",
     "shell.execute_reply.started": "2025-02-04T12:06:50.858920Z"
    }
   },
   "outputs": [
    {
     "data": {
      "text/html": [
       "<div>\n",
       "<style scoped>\n",
       "    .dataframe tbody tr th:only-of-type {\n",
       "        vertical-align: middle;\n",
       "    }\n",
       "\n",
       "    .dataframe tbody tr th {\n",
       "        vertical-align: top;\n",
       "    }\n",
       "\n",
       "    .dataframe thead th {\n",
       "        text-align: right;\n",
       "    }\n",
       "</style>\n",
       "<table border=\"1\" class=\"dataframe\">\n",
       "  <thead>\n",
       "    <tr style=\"text-align: right;\">\n",
       "      <th></th>\n",
       "      <th>Ticker</th>\n",
       "      <th>Date</th>\n",
       "      <th>Open</th>\n",
       "      <th>High</th>\n",
       "      <th>Low</th>\n",
       "      <th>Close</th>\n",
       "      <th>Adj Close</th>\n",
       "      <th>Volume</th>\n",
       "    </tr>\n",
       "  </thead>\n",
       "  <tbody>\n",
       "    <tr>\n",
       "      <th>0</th>\n",
       "      <td>AAPL</td>\n",
       "      <td>2023-02-07</td>\n",
       "      <td>150.639999</td>\n",
       "      <td>155.229996</td>\n",
       "      <td>150.639999</td>\n",
       "      <td>154.649994</td>\n",
       "      <td>154.414230</td>\n",
       "      <td>83322600</td>\n",
       "    </tr>\n",
       "    <tr>\n",
       "      <th>1</th>\n",
       "      <td>AAPL</td>\n",
       "      <td>2023-02-08</td>\n",
       "      <td>153.880005</td>\n",
       "      <td>154.580002</td>\n",
       "      <td>151.169998</td>\n",
       "      <td>151.919998</td>\n",
       "      <td>151.688400</td>\n",
       "      <td>64120100</td>\n",
       "    </tr>\n",
       "    <tr>\n",
       "      <th>2</th>\n",
       "      <td>AAPL</td>\n",
       "      <td>2023-02-09</td>\n",
       "      <td>153.779999</td>\n",
       "      <td>154.330002</td>\n",
       "      <td>150.419998</td>\n",
       "      <td>150.869995</td>\n",
       "      <td>150.639999</td>\n",
       "      <td>56007100</td>\n",
       "    </tr>\n",
       "    <tr>\n",
       "      <th>3</th>\n",
       "      <td>AAPL</td>\n",
       "      <td>2023-02-10</td>\n",
       "      <td>149.460007</td>\n",
       "      <td>151.339996</td>\n",
       "      <td>149.220001</td>\n",
       "      <td>151.009995</td>\n",
       "      <td>151.009995</td>\n",
       "      <td>57450700</td>\n",
       "    </tr>\n",
       "    <tr>\n",
       "      <th>4</th>\n",
       "      <td>AAPL</td>\n",
       "      <td>2023-02-13</td>\n",
       "      <td>150.949997</td>\n",
       "      <td>154.259995</td>\n",
       "      <td>150.919998</td>\n",
       "      <td>153.850006</td>\n",
       "      <td>153.850006</td>\n",
       "      <td>62199000</td>\n",
       "    </tr>\n",
       "  </tbody>\n",
       "</table>\n",
       "</div>"
      ],
      "text/plain": [
       "  Ticker        Date        Open        High         Low       Close  \\\n",
       "0   AAPL  2023-02-07  150.639999  155.229996  150.639999  154.649994   \n",
       "1   AAPL  2023-02-08  153.880005  154.580002  151.169998  151.919998   \n",
       "2   AAPL  2023-02-09  153.779999  154.330002  150.419998  150.869995   \n",
       "3   AAPL  2023-02-10  149.460007  151.339996  149.220001  151.009995   \n",
       "4   AAPL  2023-02-13  150.949997  154.259995  150.919998  153.850006   \n",
       "\n",
       "    Adj Close    Volume  \n",
       "0  154.414230  83322600  \n",
       "1  151.688400  64120100  \n",
       "2  150.639999  56007100  \n",
       "3  151.009995  57450700  \n",
       "4  153.850006  62199000  "
      ]
     },
     "execution_count": 57,
     "metadata": {},
     "output_type": "execute_result"
    }
   ],
   "source": [
    "df = pd.read_csv(\"/kaggle/input/stock-market-analysis-data/stocks.csv\")\n",
    "df.head()"
   ]
  },
  {
   "cell_type": "markdown",
   "metadata": {},
   "source": [
    "Target value:Close"
   ]
  },
  {
   "cell_type": "code",
   "execution_count": 58,
   "metadata": {
    "execution": {
     "iopub.execute_input": "2025-02-04T12:06:52.920027Z",
     "iopub.status.busy": "2025-02-04T12:06:52.919671Z",
     "iopub.status.idle": "2025-02-04T12:06:52.960102Z",
     "shell.execute_reply": "2025-02-04T12:06:52.958211Z",
     "shell.execute_reply.started": "2025-02-04T12:06:52.920000Z"
    }
   },
   "outputs": [
    {
     "name": "stdout",
     "output_type": "stream",
     "text": [
      "(248, 8)\n",
      "Ticker        object\n",
      "Date          object\n",
      "Open         float64\n",
      "High         float64\n",
      "Low          float64\n",
      "Close        float64\n",
      "Adj Close    float64\n",
      "Volume         int64\n",
      "dtype: object\n",
      "  Ticker        Date        Open        High         Low       Close  \\\n",
      "0   AAPL  2023-02-07  150.639999  155.229996  150.639999  154.649994   \n",
      "1   AAPL  2023-02-08  153.880005  154.580002  151.169998  151.919998   \n",
      "2   AAPL  2023-02-09  153.779999  154.330002  150.419998  150.869995   \n",
      "3   AAPL  2023-02-10  149.460007  151.339996  149.220001  151.009995   \n",
      "4   AAPL  2023-02-13  150.949997  154.259995  150.919998  153.850006   \n",
      "\n",
      "    Adj Close    Volume  \n",
      "0  154.414230  83322600  \n",
      "1  151.688400  64120100  \n",
      "2  150.639999  56007100  \n",
      "3  151.009995  57450700  \n",
      "4  153.850006  62199000  \n",
      "    Ticker        Date        Open        High         Low       Close  \\\n",
      "243   GOOG  2023-05-01  107.720001  108.680000  107.500000  107.709999   \n",
      "244   GOOG  2023-05-02  107.660004  107.730003  104.500000  105.980003   \n",
      "245   GOOG  2023-05-03  106.220001  108.129997  105.620003  106.120003   \n",
      "246   GOOG  2023-05-04  106.160004  106.300003  104.699997  105.209999   \n",
      "247   GOOG  2023-05-05  105.320000  106.440002  104.738998  106.214996   \n",
      "\n",
      "      Adj Close    Volume  \n",
      "243  107.709999  20926300  \n",
      "244  105.980003  20343100  \n",
      "245  106.120003  17116300  \n",
      "246  105.209999  19780600  \n",
      "247  106.214996  20705300  \n",
      "Ticker       0\n",
      "Date         0\n",
      "Open         0\n",
      "High         0\n",
      "Low          0\n",
      "Close        0\n",
      "Adj Close    0\n",
      "Volume       0\n",
      "dtype: int64\n",
      "           count          mean           std           min            0%  \\\n",
      "Open       248.0  2.152521e+02  9.169131e+01  8.954000e+01  8.954000e+01   \n",
      "High       248.0  2.179197e+02  9.286302e+01  9.013000e+01  9.013000e+01   \n",
      "Low        248.0  2.126975e+02  9.014788e+01  8.886000e+01  8.886000e+01   \n",
      "Close      248.0  2.153817e+02  9.146199e+01  8.935000e+01  8.935000e+01   \n",
      "Adj Close  248.0  2.153627e+02  9.145475e+01  8.935000e+01  8.935000e+01   \n",
      "Volume     248.0  3.208210e+07  2.233590e+07  2.657900e+06  2.657900e+06   \n",
      "\n",
      "                     5%           50%           95%           99%  \\\n",
      "Open       9.382700e+01  2.087650e+02  3.429085e+02  3.588545e+02   \n",
      "High       9.523625e+01  2.126150e+02  3.462235e+02  3.639779e+02   \n",
      "Low        9.270200e+01  2.081850e+02  3.374860e+02  3.542118e+02   \n",
      "Close      9.419800e+01  2.099200e+02  3.443845e+02  3.619924e+02   \n",
      "Adj Close  9.419800e+01  2.099200e+02  3.443845e+02  3.619924e+02   \n",
      "Volume     4.460075e+06  2.734000e+07  7.367682e+07  9.298552e+07   \n",
      "\n",
      "                   100%           max  \n",
      "Open       3.724100e+02  3.724100e+02  \n",
      "High       3.738300e+02  3.738300e+02  \n",
      "Low        3.617400e+02  3.617400e+02  \n",
      "Close      3.668300e+02  3.668300e+02  \n",
      "Adj Close  3.668300e+02  3.668300e+02  \n",
      "Volume     1.133164e+08  1.133164e+08  \n"
     ]
    }
   ],
   "source": [
    "def check_df(dataframe, head=5):\n",
    "    print(dataframe.shape)\n",
    "    print(dataframe.dtypes)\n",
    "    print(dataframe.head(head))\n",
    "    print(dataframe.tail(head))\n",
    "    print(dataframe.isnull().sum())\n",
    "    print(dataframe.describe([0, 0.05, 0.50, 0.95, 0.99, 1]).T)\n",
    "\n",
    "check_df(df)"
   ]
  },
  {
   "cell_type": "code",
   "execution_count": 59,
   "metadata": {
    "execution": {
     "iopub.execute_input": "2025-02-04T12:06:55.609736Z",
     "iopub.status.busy": "2025-02-04T12:06:55.609294Z",
     "iopub.status.idle": "2025-02-04T12:06:55.618696Z",
     "shell.execute_reply": "2025-02-04T12:06:55.617680Z",
     "shell.execute_reply.started": "2025-02-04T12:06:55.609705Z"
    }
   },
   "outputs": [
    {
     "data": {
      "text/plain": [
       "Ticker\n",
       "AAPL    62\n",
       "MSFT    62\n",
       "NFLX    62\n",
       "GOOG    62\n",
       "Name: count, dtype: int64"
      ]
     },
     "execution_count": 59,
     "metadata": {},
     "output_type": "execute_result"
    }
   ],
   "source": [
    "df[\"Ticker\"].value_counts()"
   ]
  },
  {
   "cell_type": "code",
   "execution_count": 61,
   "metadata": {
    "execution": {
     "iopub.execute_input": "2025-02-04T12:06:59.593052Z",
     "iopub.status.busy": "2025-02-04T12:06:59.592541Z",
     "iopub.status.idle": "2025-02-04T12:06:59.599449Z",
     "shell.execute_reply": "2025-02-04T12:06:59.598086Z",
     "shell.execute_reply.started": "2025-02-04T12:06:59.593011Z"
    }
   },
   "outputs": [],
   "source": [
    "df['Date'] = pd.to_datetime(df['Date'], errors='coerce')"
   ]
  },
  {
   "cell_type": "code",
   "execution_count": 62,
   "metadata": {
    "execution": {
     "iopub.execute_input": "2025-02-04T12:07:01.604425Z",
     "iopub.status.busy": "2025-02-04T12:07:01.603907Z",
     "iopub.status.idle": "2025-02-04T12:07:01.652744Z",
     "shell.execute_reply": "2025-02-04T12:07:01.651183Z",
     "shell.execute_reply.started": "2025-02-04T12:07:01.604355Z"
    }
   },
   "outputs": [
    {
     "name": "stdout",
     "output_type": "stream",
     "text": [
      "  Ticker       Date        Open        High         Low       Close  \\\n",
      "0   AAPL 2023-02-07  150.639999  155.229996  150.639999  154.649994   \n",
      "1   AAPL 2023-02-08  153.880005  154.580002  151.169998  151.919998   \n",
      "2   AAPL 2023-02-09  153.779999  154.330002  150.419998  150.869995   \n",
      "3   AAPL 2023-02-10  149.460007  151.339996  149.220001  151.009995   \n",
      "4   AAPL 2023-02-13  150.949997  154.259995  150.919998  153.850006   \n",
      "\n",
      "    Adj Close    Volume  Weekday  is_weekend  Quarter   Day_sin       Day_cos  \\\n",
      "0  154.414230  83322600        1           0        1  1.000000  6.123234e-17   \n",
      "1  151.688400  64120100        2           0        1  0.974928 -2.225209e-01   \n",
      "2  150.639999  56007100        3           0        1  0.900969 -4.338837e-01   \n",
      "3  151.009995  57450700        4           0        1  0.781831 -6.234898e-01   \n",
      "4  153.850006  62199000        0           0        1  0.222521 -9.749279e-01   \n",
      "\n",
      "   Month_sin  Month_cos  Day_of_Year_sin  Day_of_Year_cos  \n",
      "0   0.866025        0.5         0.608477         0.793572  \n",
      "1   0.866025        0.5         0.622047         0.782980  \n",
      "2   0.866025        0.5         0.635432         0.772157  \n",
      "3   0.866025        0.5         0.648630         0.761104  \n",
      "4   0.866025        0.5         0.687053         0.726608  \n"
     ]
    }
   ],
   "source": [
    "df[\"Year\"] = df[\"Date\"].dt.year\n",
    "df[\"Month\"] = df[\"Date\"].dt.month\n",
    "df[\"Day\"] = df[\"Date\"].dt.day\n",
    "df[\"Weekday\"] = df[\"Date\"].dt.weekday\n",
    "df[\"is_weekend\"] = df[\"Weekday\"].apply(lambda x: 1 if x >= 5 else 0)\n",
    "df[\"Day_of_Year\"] = df[\"Date\"].dt.dayofyear\n",
    "df[\"Quarter\"] = df[\"Date\"].dt.quarter\n",
    "df[\"Days_in_Month\"] = df.apply(lambda row: calendar.monthrange(row[\"Year\"], row[\"Month\"])[1], axis=1)\n",
    "\n",
    "# Günlük sin ve cos dönüşümleri (ayın uzunluğuna göre ölçekleme)\n",
    "df[\"Day_sin\"] = np.sin(2 * np.pi * df[\"Day\"] / df[\"Days_in_Month\"])\n",
    "df[\"Day_cos\"] = np.cos(2 * np.pi * df[\"Day\"] / df[\"Days_in_Month\"])\n",
    "\n",
    "# Aylık sin ve cos dönüşümleri\n",
    "df[\"Month_sin\"] = np.sin(2 * np.pi * df[\"Month\"] / 12)\n",
    "df[\"Month_cos\"] = np.cos(2 * np.pi * df[\"Month\"] / 12)\n",
    "\n",
    "# Yılın gününe göre sin ve cos dönüşümleri (Seasonality için)\n",
    "df[\"Day_of_Year_sin\"] = np.sin(2 * np.pi * df[\"Day_of_Year\"] / 365)\n",
    "df[\"Day_of_Year_cos\"] = np.cos(2 * np.pi * df[\"Day_of_Year\"] / 365)\n",
    "\n",
    "df = df.drop(columns=[\"Days_in_Month\", \"Day\", \"Month\", \"Year\", \"Day_of_Year\"])\n",
    "\n",
    "print(df.head())"
   ]
  },
  {
   "cell_type": "code",
   "execution_count": 63,
   "metadata": {
    "execution": {
     "iopub.execute_input": "2025-02-04T12:07:04.588092Z",
     "iopub.status.busy": "2025-02-04T12:07:04.587762Z",
     "iopub.status.idle": "2025-02-04T12:07:04.601629Z",
     "shell.execute_reply": "2025-02-04T12:07:04.600006Z",
     "shell.execute_reply.started": "2025-02-04T12:07:04.588067Z"
    }
   },
   "outputs": [
    {
     "name": "stdout",
     "output_type": "stream",
     "text": [
      "<class 'pandas.core.frame.DataFrame'>\n",
      "RangeIndex: 248 entries, 0 to 247\n",
      "Data columns (total 17 columns):\n",
      " #   Column           Non-Null Count  Dtype         \n",
      "---  ------           --------------  -----         \n",
      " 0   Ticker           248 non-null    object        \n",
      " 1   Date             248 non-null    datetime64[ns]\n",
      " 2   Open             248 non-null    float64       \n",
      " 3   High             248 non-null    float64       \n",
      " 4   Low              248 non-null    float64       \n",
      " 5   Close            248 non-null    float64       \n",
      " 6   Adj Close        248 non-null    float64       \n",
      " 7   Volume           248 non-null    int64         \n",
      " 8   Weekday          248 non-null    int32         \n",
      " 9   is_weekend       248 non-null    int64         \n",
      " 10  Quarter          248 non-null    int32         \n",
      " 11  Day_sin          248 non-null    float64       \n",
      " 12  Day_cos          248 non-null    float64       \n",
      " 13  Month_sin        248 non-null    float64       \n",
      " 14  Month_cos        248 non-null    float64       \n",
      " 15  Day_of_Year_sin  248 non-null    float64       \n",
      " 16  Day_of_Year_cos  248 non-null    float64       \n",
      "dtypes: datetime64[ns](1), float64(11), int32(2), int64(2), object(1)\n",
      "memory usage: 31.1+ KB\n"
     ]
    }
   ],
   "source": [
    "df.info()"
   ]
  },
  {
   "cell_type": "code",
   "execution_count": 64,
   "metadata": {
    "execution": {
     "iopub.execute_input": "2025-02-04T12:07:07.208666Z",
     "iopub.status.busy": "2025-02-04T12:07:07.208146Z",
     "iopub.status.idle": "2025-02-04T12:07:07.216548Z",
     "shell.execute_reply": "2025-02-04T12:07:07.215391Z",
     "shell.execute_reply.started": "2025-02-04T12:07:07.208630Z"
    }
   },
   "outputs": [],
   "source": [
    "df = df.sort_values(by='Date')\n",
    "df.set_index('Date', inplace=True)"
   ]
  },
  {
   "cell_type": "code",
   "execution_count": 65,
   "metadata": {
    "execution": {
     "iopub.execute_input": "2025-02-04T12:07:09.572502Z",
     "iopub.status.busy": "2025-02-04T12:07:09.572115Z",
     "iopub.status.idle": "2025-02-04T12:07:09.591125Z",
     "shell.execute_reply": "2025-02-04T12:07:09.590010Z",
     "shell.execute_reply.started": "2025-02-04T12:07:09.572472Z"
    }
   },
   "outputs": [
    {
     "data": {
      "text/html": [
       "<div>\n",
       "<style scoped>\n",
       "    .dataframe tbody tr th:only-of-type {\n",
       "        vertical-align: middle;\n",
       "    }\n",
       "\n",
       "    .dataframe tbody tr th {\n",
       "        vertical-align: top;\n",
       "    }\n",
       "\n",
       "    .dataframe thead th {\n",
       "        text-align: right;\n",
       "    }\n",
       "</style>\n",
       "<table border=\"1\" class=\"dataframe\">\n",
       "  <thead>\n",
       "    <tr style=\"text-align: right;\">\n",
       "      <th></th>\n",
       "      <th>Ticker</th>\n",
       "      <th>Open</th>\n",
       "      <th>High</th>\n",
       "      <th>Low</th>\n",
       "      <th>Close</th>\n",
       "      <th>Adj Close</th>\n",
       "      <th>Volume</th>\n",
       "      <th>Weekday</th>\n",
       "      <th>is_weekend</th>\n",
       "      <th>Quarter</th>\n",
       "      <th>Day_sin</th>\n",
       "      <th>Day_cos</th>\n",
       "      <th>Month_sin</th>\n",
       "      <th>Month_cos</th>\n",
       "      <th>Day_of_Year_sin</th>\n",
       "      <th>Day_of_Year_cos</th>\n",
       "    </tr>\n",
       "    <tr>\n",
       "      <th>Date</th>\n",
       "      <th></th>\n",
       "      <th></th>\n",
       "      <th></th>\n",
       "      <th></th>\n",
       "      <th></th>\n",
       "      <th></th>\n",
       "      <th></th>\n",
       "      <th></th>\n",
       "      <th></th>\n",
       "      <th></th>\n",
       "      <th></th>\n",
       "      <th></th>\n",
       "      <th></th>\n",
       "      <th></th>\n",
       "      <th></th>\n",
       "      <th></th>\n",
       "    </tr>\n",
       "  </thead>\n",
       "  <tbody>\n",
       "    <tr>\n",
       "      <th>2023-02-07</th>\n",
       "      <td>AAPL</td>\n",
       "      <td>150.639999</td>\n",
       "      <td>155.229996</td>\n",
       "      <td>150.639999</td>\n",
       "      <td>154.649994</td>\n",
       "      <td>154.414230</td>\n",
       "      <td>83322600</td>\n",
       "      <td>1</td>\n",
       "      <td>0</td>\n",
       "      <td>1</td>\n",
       "      <td>1.000000</td>\n",
       "      <td>6.123234e-17</td>\n",
       "      <td>0.866025</td>\n",
       "      <td>0.5</td>\n",
       "      <td>0.608477</td>\n",
       "      <td>0.793572</td>\n",
       "    </tr>\n",
       "    <tr>\n",
       "      <th>2023-02-07</th>\n",
       "      <td>MSFT</td>\n",
       "      <td>260.529999</td>\n",
       "      <td>268.769989</td>\n",
       "      <td>260.079987</td>\n",
       "      <td>267.559998</td>\n",
       "      <td>266.891510</td>\n",
       "      <td>50841400</td>\n",
       "      <td>1</td>\n",
       "      <td>0</td>\n",
       "      <td>1</td>\n",
       "      <td>1.000000</td>\n",
       "      <td>6.123234e-17</td>\n",
       "      <td>0.866025</td>\n",
       "      <td>0.5</td>\n",
       "      <td>0.608477</td>\n",
       "      <td>0.793572</td>\n",
       "    </tr>\n",
       "    <tr>\n",
       "      <th>2023-02-07</th>\n",
       "      <td>GOOG</td>\n",
       "      <td>103.629997</td>\n",
       "      <td>108.669998</td>\n",
       "      <td>103.547997</td>\n",
       "      <td>108.040001</td>\n",
       "      <td>108.040001</td>\n",
       "      <td>33738800</td>\n",
       "      <td>1</td>\n",
       "      <td>0</td>\n",
       "      <td>1</td>\n",
       "      <td>1.000000</td>\n",
       "      <td>6.123234e-17</td>\n",
       "      <td>0.866025</td>\n",
       "      <td>0.5</td>\n",
       "      <td>0.608477</td>\n",
       "      <td>0.793572</td>\n",
       "    </tr>\n",
       "    <tr>\n",
       "      <th>2023-02-07</th>\n",
       "      <td>NFLX</td>\n",
       "      <td>358.510010</td>\n",
       "      <td>364.179993</td>\n",
       "      <td>354.179993</td>\n",
       "      <td>362.950012</td>\n",
       "      <td>362.950012</td>\n",
       "      <td>6289400</td>\n",
       "      <td>1</td>\n",
       "      <td>0</td>\n",
       "      <td>1</td>\n",
       "      <td>1.000000</td>\n",
       "      <td>6.123234e-17</td>\n",
       "      <td>0.866025</td>\n",
       "      <td>0.5</td>\n",
       "      <td>0.608477</td>\n",
       "      <td>0.793572</td>\n",
       "    </tr>\n",
       "    <tr>\n",
       "      <th>2023-02-08</th>\n",
       "      <td>GOOG</td>\n",
       "      <td>102.690002</td>\n",
       "      <td>103.580002</td>\n",
       "      <td>98.455002</td>\n",
       "      <td>100.000000</td>\n",
       "      <td>100.000000</td>\n",
       "      <td>73546000</td>\n",
       "      <td>2</td>\n",
       "      <td>0</td>\n",
       "      <td>1</td>\n",
       "      <td>0.974928</td>\n",
       "      <td>-2.225209e-01</td>\n",
       "      <td>0.866025</td>\n",
       "      <td>0.5</td>\n",
       "      <td>0.622047</td>\n",
       "      <td>0.782980</td>\n",
       "    </tr>\n",
       "  </tbody>\n",
       "</table>\n",
       "</div>"
      ],
      "text/plain": [
       "           Ticker        Open        High         Low       Close   Adj Close  \\\n",
       "Date                                                                            \n",
       "2023-02-07   AAPL  150.639999  155.229996  150.639999  154.649994  154.414230   \n",
       "2023-02-07   MSFT  260.529999  268.769989  260.079987  267.559998  266.891510   \n",
       "2023-02-07   GOOG  103.629997  108.669998  103.547997  108.040001  108.040001   \n",
       "2023-02-07   NFLX  358.510010  364.179993  354.179993  362.950012  362.950012   \n",
       "2023-02-08   GOOG  102.690002  103.580002   98.455002  100.000000  100.000000   \n",
       "\n",
       "              Volume  Weekday  is_weekend  Quarter   Day_sin       Day_cos  \\\n",
       "Date                                                                         \n",
       "2023-02-07  83322600        1           0        1  1.000000  6.123234e-17   \n",
       "2023-02-07  50841400        1           0        1  1.000000  6.123234e-17   \n",
       "2023-02-07  33738800        1           0        1  1.000000  6.123234e-17   \n",
       "2023-02-07   6289400        1           0        1  1.000000  6.123234e-17   \n",
       "2023-02-08  73546000        2           0        1  0.974928 -2.225209e-01   \n",
       "\n",
       "            Month_sin  Month_cos  Day_of_Year_sin  Day_of_Year_cos  \n",
       "Date                                                                \n",
       "2023-02-07   0.866025        0.5         0.608477         0.793572  \n",
       "2023-02-07   0.866025        0.5         0.608477         0.793572  \n",
       "2023-02-07   0.866025        0.5         0.608477         0.793572  \n",
       "2023-02-07   0.866025        0.5         0.608477         0.793572  \n",
       "2023-02-08   0.866025        0.5         0.622047         0.782980  "
      ]
     },
     "execution_count": 65,
     "metadata": {},
     "output_type": "execute_result"
    }
   ],
   "source": [
    "df.head()"
   ]
  },
  {
   "cell_type": "code",
   "execution_count": 66,
   "metadata": {
    "execution": {
     "iopub.execute_input": "2025-02-04T12:07:12.405984Z",
     "iopub.status.busy": "2025-02-04T12:07:12.405591Z",
     "iopub.status.idle": "2025-02-04T12:07:12.413382Z",
     "shell.execute_reply": "2025-02-04T12:07:12.412186Z",
     "shell.execute_reply.started": "2025-02-04T12:07:12.405953Z"
    }
   },
   "outputs": [],
   "source": [
    "df['Target'] = df.groupby('Ticker')['Adj Close'].shift(-1)  # Bir sonraki günün fiyatını target yap"
   ]
  },
  {
   "cell_type": "code",
   "execution_count": 67,
   "metadata": {
    "execution": {
     "iopub.execute_input": "2025-02-04T12:07:15.035965Z",
     "iopub.status.busy": "2025-02-04T12:07:15.035602Z",
     "iopub.status.idle": "2025-02-04T12:07:15.066329Z",
     "shell.execute_reply": "2025-02-04T12:07:15.064870Z",
     "shell.execute_reply.started": "2025-02-04T12:07:15.035937Z"
    }
   },
   "outputs": [
    {
     "data": {
      "text/html": [
       "<div>\n",
       "<style scoped>\n",
       "    .dataframe tbody tr th:only-of-type {\n",
       "        vertical-align: middle;\n",
       "    }\n",
       "\n",
       "    .dataframe tbody tr th {\n",
       "        vertical-align: top;\n",
       "    }\n",
       "\n",
       "    .dataframe thead th {\n",
       "        text-align: right;\n",
       "    }\n",
       "</style>\n",
       "<table border=\"1\" class=\"dataframe\">\n",
       "  <thead>\n",
       "    <tr style=\"text-align: right;\">\n",
       "      <th></th>\n",
       "      <th>Ticker</th>\n",
       "      <th>Open</th>\n",
       "      <th>High</th>\n",
       "      <th>Low</th>\n",
       "      <th>Close</th>\n",
       "      <th>Adj Close</th>\n",
       "      <th>Volume</th>\n",
       "      <th>Weekday</th>\n",
       "      <th>is_weekend</th>\n",
       "      <th>Quarter</th>\n",
       "      <th>Day_sin</th>\n",
       "      <th>Day_cos</th>\n",
       "      <th>Month_sin</th>\n",
       "      <th>Month_cos</th>\n",
       "      <th>Day_of_Year_sin</th>\n",
       "      <th>Day_of_Year_cos</th>\n",
       "      <th>Target</th>\n",
       "    </tr>\n",
       "    <tr>\n",
       "      <th>Date</th>\n",
       "      <th></th>\n",
       "      <th></th>\n",
       "      <th></th>\n",
       "      <th></th>\n",
       "      <th></th>\n",
       "      <th></th>\n",
       "      <th></th>\n",
       "      <th></th>\n",
       "      <th></th>\n",
       "      <th></th>\n",
       "      <th></th>\n",
       "      <th></th>\n",
       "      <th></th>\n",
       "      <th></th>\n",
       "      <th></th>\n",
       "      <th></th>\n",
       "      <th></th>\n",
       "    </tr>\n",
       "  </thead>\n",
       "  <tbody>\n",
       "    <tr>\n",
       "      <th>2023-02-07</th>\n",
       "      <td>AAPL</td>\n",
       "      <td>150.639999</td>\n",
       "      <td>155.229996</td>\n",
       "      <td>150.639999</td>\n",
       "      <td>154.649994</td>\n",
       "      <td>154.414230</td>\n",
       "      <td>83322600</td>\n",
       "      <td>1</td>\n",
       "      <td>0</td>\n",
       "      <td>1</td>\n",
       "      <td>1.000000</td>\n",
       "      <td>6.123234e-17</td>\n",
       "      <td>0.866025</td>\n",
       "      <td>0.5</td>\n",
       "      <td>0.608477</td>\n",
       "      <td>0.793572</td>\n",
       "      <td>151.688400</td>\n",
       "    </tr>\n",
       "    <tr>\n",
       "      <th>2023-02-07</th>\n",
       "      <td>MSFT</td>\n",
       "      <td>260.529999</td>\n",
       "      <td>268.769989</td>\n",
       "      <td>260.079987</td>\n",
       "      <td>267.559998</td>\n",
       "      <td>266.891510</td>\n",
       "      <td>50841400</td>\n",
       "      <td>1</td>\n",
       "      <td>0</td>\n",
       "      <td>1</td>\n",
       "      <td>1.000000</td>\n",
       "      <td>6.123234e-17</td>\n",
       "      <td>0.866025</td>\n",
       "      <td>0.5</td>\n",
       "      <td>0.608477</td>\n",
       "      <td>0.793572</td>\n",
       "      <td>266.063599</td>\n",
       "    </tr>\n",
       "    <tr>\n",
       "      <th>2023-02-07</th>\n",
       "      <td>GOOG</td>\n",
       "      <td>103.629997</td>\n",
       "      <td>108.669998</td>\n",
       "      <td>103.547997</td>\n",
       "      <td>108.040001</td>\n",
       "      <td>108.040001</td>\n",
       "      <td>33738800</td>\n",
       "      <td>1</td>\n",
       "      <td>0</td>\n",
       "      <td>1</td>\n",
       "      <td>1.000000</td>\n",
       "      <td>6.123234e-17</td>\n",
       "      <td>0.866025</td>\n",
       "      <td>0.5</td>\n",
       "      <td>0.608477</td>\n",
       "      <td>0.793572</td>\n",
       "      <td>100.000000</td>\n",
       "    </tr>\n",
       "    <tr>\n",
       "      <th>2023-02-07</th>\n",
       "      <td>NFLX</td>\n",
       "      <td>358.510010</td>\n",
       "      <td>364.179993</td>\n",
       "      <td>354.179993</td>\n",
       "      <td>362.950012</td>\n",
       "      <td>362.950012</td>\n",
       "      <td>6289400</td>\n",
       "      <td>1</td>\n",
       "      <td>0</td>\n",
       "      <td>1</td>\n",
       "      <td>1.000000</td>\n",
       "      <td>6.123234e-17</td>\n",
       "      <td>0.866025</td>\n",
       "      <td>0.5</td>\n",
       "      <td>0.608477</td>\n",
       "      <td>0.793572</td>\n",
       "      <td>366.829987</td>\n",
       "    </tr>\n",
       "    <tr>\n",
       "      <th>2023-02-08</th>\n",
       "      <td>GOOG</td>\n",
       "      <td>102.690002</td>\n",
       "      <td>103.580002</td>\n",
       "      <td>98.455002</td>\n",
       "      <td>100.000000</td>\n",
       "      <td>100.000000</td>\n",
       "      <td>73546000</td>\n",
       "      <td>2</td>\n",
       "      <td>0</td>\n",
       "      <td>1</td>\n",
       "      <td>0.974928</td>\n",
       "      <td>-2.225209e-01</td>\n",
       "      <td>0.866025</td>\n",
       "      <td>0.5</td>\n",
       "      <td>0.622047</td>\n",
       "      <td>0.782980</td>\n",
       "      <td>95.459999</td>\n",
       "    </tr>\n",
       "    <tr>\n",
       "      <th>2023-02-08</th>\n",
       "      <td>MSFT</td>\n",
       "      <td>273.200012</td>\n",
       "      <td>276.760010</td>\n",
       "      <td>266.209991</td>\n",
       "      <td>266.730011</td>\n",
       "      <td>266.063599</td>\n",
       "      <td>54686000</td>\n",
       "      <td>2</td>\n",
       "      <td>0</td>\n",
       "      <td>1</td>\n",
       "      <td>0.974928</td>\n",
       "      <td>-2.225209e-01</td>\n",
       "      <td>0.866025</td>\n",
       "      <td>0.5</td>\n",
       "      <td>0.622047</td>\n",
       "      <td>0.782980</td>\n",
       "      <td>262.961365</td>\n",
       "    </tr>\n",
       "    <tr>\n",
       "      <th>2023-02-08</th>\n",
       "      <td>AAPL</td>\n",
       "      <td>153.880005</td>\n",
       "      <td>154.580002</td>\n",
       "      <td>151.169998</td>\n",
       "      <td>151.919998</td>\n",
       "      <td>151.688400</td>\n",
       "      <td>64120100</td>\n",
       "      <td>2</td>\n",
       "      <td>0</td>\n",
       "      <td>1</td>\n",
       "      <td>0.974928</td>\n",
       "      <td>-2.225209e-01</td>\n",
       "      <td>0.866025</td>\n",
       "      <td>0.5</td>\n",
       "      <td>0.622047</td>\n",
       "      <td>0.782980</td>\n",
       "      <td>150.639999</td>\n",
       "    </tr>\n",
       "    <tr>\n",
       "      <th>2023-02-08</th>\n",
       "      <td>NFLX</td>\n",
       "      <td>360.019989</td>\n",
       "      <td>368.190002</td>\n",
       "      <td>358.309998</td>\n",
       "      <td>366.829987</td>\n",
       "      <td>366.829987</td>\n",
       "      <td>6253200</td>\n",
       "      <td>2</td>\n",
       "      <td>0</td>\n",
       "      <td>1</td>\n",
       "      <td>0.974928</td>\n",
       "      <td>-2.225209e-01</td>\n",
       "      <td>0.866025</td>\n",
       "      <td>0.5</td>\n",
       "      <td>0.622047</td>\n",
       "      <td>0.782980</td>\n",
       "      <td>362.500000</td>\n",
       "    </tr>\n",
       "    <tr>\n",
       "      <th>2023-02-09</th>\n",
       "      <td>MSFT</td>\n",
       "      <td>273.799988</td>\n",
       "      <td>273.980011</td>\n",
       "      <td>262.799988</td>\n",
       "      <td>263.619995</td>\n",
       "      <td>262.961365</td>\n",
       "      <td>42375100</td>\n",
       "      <td>3</td>\n",
       "      <td>0</td>\n",
       "      <td>1</td>\n",
       "      <td>0.900969</td>\n",
       "      <td>-4.338837e-01</td>\n",
       "      <td>0.866025</td>\n",
       "      <td>0.5</td>\n",
       "      <td>0.635432</td>\n",
       "      <td>0.772157</td>\n",
       "      <td>262.442657</td>\n",
       "    </tr>\n",
       "    <tr>\n",
       "      <th>2023-02-09</th>\n",
       "      <td>GOOG</td>\n",
       "      <td>100.540001</td>\n",
       "      <td>100.610001</td>\n",
       "      <td>93.860001</td>\n",
       "      <td>95.459999</td>\n",
       "      <td>95.459999</td>\n",
       "      <td>97798600</td>\n",
       "      <td>3</td>\n",
       "      <td>0</td>\n",
       "      <td>1</td>\n",
       "      <td>0.900969</td>\n",
       "      <td>-4.338837e-01</td>\n",
       "      <td>0.866025</td>\n",
       "      <td>0.5</td>\n",
       "      <td>0.635432</td>\n",
       "      <td>0.772157</td>\n",
       "      <td>94.860001</td>\n",
       "    </tr>\n",
       "    <tr>\n",
       "      <th>2023-02-09</th>\n",
       "      <td>AAPL</td>\n",
       "      <td>153.779999</td>\n",
       "      <td>154.330002</td>\n",
       "      <td>150.419998</td>\n",
       "      <td>150.869995</td>\n",
       "      <td>150.639999</td>\n",
       "      <td>56007100</td>\n",
       "      <td>3</td>\n",
       "      <td>0</td>\n",
       "      <td>1</td>\n",
       "      <td>0.900969</td>\n",
       "      <td>-4.338837e-01</td>\n",
       "      <td>0.866025</td>\n",
       "      <td>0.5</td>\n",
       "      <td>0.635432</td>\n",
       "      <td>0.772157</td>\n",
       "      <td>151.009995</td>\n",
       "    </tr>\n",
       "    <tr>\n",
       "      <th>2023-02-09</th>\n",
       "      <td>NFLX</td>\n",
       "      <td>372.410004</td>\n",
       "      <td>373.829987</td>\n",
       "      <td>361.739990</td>\n",
       "      <td>362.500000</td>\n",
       "      <td>362.500000</td>\n",
       "      <td>6901100</td>\n",
       "      <td>3</td>\n",
       "      <td>0</td>\n",
       "      <td>1</td>\n",
       "      <td>0.900969</td>\n",
       "      <td>-4.338837e-01</td>\n",
       "      <td>0.866025</td>\n",
       "      <td>0.5</td>\n",
       "      <td>0.635432</td>\n",
       "      <td>0.772157</td>\n",
       "      <td>347.359985</td>\n",
       "    </tr>\n",
       "    <tr>\n",
       "      <th>2023-02-10</th>\n",
       "      <td>MSFT</td>\n",
       "      <td>261.529999</td>\n",
       "      <td>264.089996</td>\n",
       "      <td>260.660004</td>\n",
       "      <td>263.100006</td>\n",
       "      <td>262.442657</td>\n",
       "      <td>25818500</td>\n",
       "      <td>4</td>\n",
       "      <td>0</td>\n",
       "      <td>1</td>\n",
       "      <td>0.781831</td>\n",
       "      <td>-6.234898e-01</td>\n",
       "      <td>0.866025</td>\n",
       "      <td>0.5</td>\n",
       "      <td>0.648630</td>\n",
       "      <td>0.761104</td>\n",
       "      <td>270.642120</td>\n",
       "    </tr>\n",
       "    <tr>\n",
       "      <th>2023-02-10</th>\n",
       "      <td>GOOG</td>\n",
       "      <td>95.739998</td>\n",
       "      <td>97.019997</td>\n",
       "      <td>94.529999</td>\n",
       "      <td>94.860001</td>\n",
       "      <td>94.860001</td>\n",
       "      <td>49325300</td>\n",
       "      <td>4</td>\n",
       "      <td>0</td>\n",
       "      <td>1</td>\n",
       "      <td>0.781831</td>\n",
       "      <td>-6.234898e-01</td>\n",
       "      <td>0.866025</td>\n",
       "      <td>0.5</td>\n",
       "      <td>0.648630</td>\n",
       "      <td>0.761104</td>\n",
       "      <td>95.000000</td>\n",
       "    </tr>\n",
       "    <tr>\n",
       "      <th>2023-02-10</th>\n",
       "      <td>AAPL</td>\n",
       "      <td>149.460007</td>\n",
       "      <td>151.339996</td>\n",
       "      <td>149.220001</td>\n",
       "      <td>151.009995</td>\n",
       "      <td>151.009995</td>\n",
       "      <td>57450700</td>\n",
       "      <td>4</td>\n",
       "      <td>0</td>\n",
       "      <td>1</td>\n",
       "      <td>0.781831</td>\n",
       "      <td>-6.234898e-01</td>\n",
       "      <td>0.866025</td>\n",
       "      <td>0.5</td>\n",
       "      <td>0.648630</td>\n",
       "      <td>0.761104</td>\n",
       "      <td>153.850006</td>\n",
       "    </tr>\n",
       "    <tr>\n",
       "      <th>2023-02-10</th>\n",
       "      <td>NFLX</td>\n",
       "      <td>359.160004</td>\n",
       "      <td>362.140015</td>\n",
       "      <td>347.140015</td>\n",
       "      <td>347.359985</td>\n",
       "      <td>347.359985</td>\n",
       "      <td>7291100</td>\n",
       "      <td>4</td>\n",
       "      <td>0</td>\n",
       "      <td>1</td>\n",
       "      <td>0.781831</td>\n",
       "      <td>-6.234898e-01</td>\n",
       "      <td>0.866025</td>\n",
       "      <td>0.5</td>\n",
       "      <td>0.648630</td>\n",
       "      <td>0.761104</td>\n",
       "      <td>358.570007</td>\n",
       "    </tr>\n",
       "    <tr>\n",
       "      <th>2023-02-13</th>\n",
       "      <td>MSFT</td>\n",
       "      <td>267.640015</td>\n",
       "      <td>274.600006</td>\n",
       "      <td>267.149994</td>\n",
       "      <td>271.320007</td>\n",
       "      <td>270.642120</td>\n",
       "      <td>44630900</td>\n",
       "      <td>0</td>\n",
       "      <td>0</td>\n",
       "      <td>1</td>\n",
       "      <td>0.222521</td>\n",
       "      <td>-9.749279e-01</td>\n",
       "      <td>0.866025</td>\n",
       "      <td>0.5</td>\n",
       "      <td>0.687053</td>\n",
       "      <td>0.726608</td>\n",
       "      <td>271.490021</td>\n",
       "    </tr>\n",
       "    <tr>\n",
       "      <th>2023-02-13</th>\n",
       "      <td>GOOG</td>\n",
       "      <td>95.010002</td>\n",
       "      <td>95.349998</td>\n",
       "      <td>94.050003</td>\n",
       "      <td>95.000000</td>\n",
       "      <td>95.000000</td>\n",
       "      <td>43116600</td>\n",
       "      <td>0</td>\n",
       "      <td>0</td>\n",
       "      <td>1</td>\n",
       "      <td>0.222521</td>\n",
       "      <td>-9.749279e-01</td>\n",
       "      <td>0.866025</td>\n",
       "      <td>0.5</td>\n",
       "      <td>0.687053</td>\n",
       "      <td>0.726608</td>\n",
       "      <td>94.949997</td>\n",
       "    </tr>\n",
       "    <tr>\n",
       "      <th>2023-02-13</th>\n",
       "      <td>NFLX</td>\n",
       "      <td>349.500000</td>\n",
       "      <td>359.700012</td>\n",
       "      <td>344.250000</td>\n",
       "      <td>358.570007</td>\n",
       "      <td>358.570007</td>\n",
       "      <td>7134400</td>\n",
       "      <td>0</td>\n",
       "      <td>0</td>\n",
       "      <td>1</td>\n",
       "      <td>0.222521</td>\n",
       "      <td>-9.749279e-01</td>\n",
       "      <td>0.866025</td>\n",
       "      <td>0.5</td>\n",
       "      <td>0.687053</td>\n",
       "      <td>0.726608</td>\n",
       "      <td>359.959991</td>\n",
       "    </tr>\n",
       "    <tr>\n",
       "      <th>2023-02-13</th>\n",
       "      <td>AAPL</td>\n",
       "      <td>150.949997</td>\n",
       "      <td>154.259995</td>\n",
       "      <td>150.919998</td>\n",
       "      <td>153.850006</td>\n",
       "      <td>153.850006</td>\n",
       "      <td>62199000</td>\n",
       "      <td>0</td>\n",
       "      <td>0</td>\n",
       "      <td>1</td>\n",
       "      <td>0.222521</td>\n",
       "      <td>-9.749279e-01</td>\n",
       "      <td>0.866025</td>\n",
       "      <td>0.5</td>\n",
       "      <td>0.687053</td>\n",
       "      <td>0.726608</td>\n",
       "      <td>153.199997</td>\n",
       "    </tr>\n",
       "  </tbody>\n",
       "</table>\n",
       "</div>"
      ],
      "text/plain": [
       "           Ticker        Open        High         Low       Close   Adj Close  \\\n",
       "Date                                                                            \n",
       "2023-02-07   AAPL  150.639999  155.229996  150.639999  154.649994  154.414230   \n",
       "2023-02-07   MSFT  260.529999  268.769989  260.079987  267.559998  266.891510   \n",
       "2023-02-07   GOOG  103.629997  108.669998  103.547997  108.040001  108.040001   \n",
       "2023-02-07   NFLX  358.510010  364.179993  354.179993  362.950012  362.950012   \n",
       "2023-02-08   GOOG  102.690002  103.580002   98.455002  100.000000  100.000000   \n",
       "2023-02-08   MSFT  273.200012  276.760010  266.209991  266.730011  266.063599   \n",
       "2023-02-08   AAPL  153.880005  154.580002  151.169998  151.919998  151.688400   \n",
       "2023-02-08   NFLX  360.019989  368.190002  358.309998  366.829987  366.829987   \n",
       "2023-02-09   MSFT  273.799988  273.980011  262.799988  263.619995  262.961365   \n",
       "2023-02-09   GOOG  100.540001  100.610001   93.860001   95.459999   95.459999   \n",
       "2023-02-09   AAPL  153.779999  154.330002  150.419998  150.869995  150.639999   \n",
       "2023-02-09   NFLX  372.410004  373.829987  361.739990  362.500000  362.500000   \n",
       "2023-02-10   MSFT  261.529999  264.089996  260.660004  263.100006  262.442657   \n",
       "2023-02-10   GOOG   95.739998   97.019997   94.529999   94.860001   94.860001   \n",
       "2023-02-10   AAPL  149.460007  151.339996  149.220001  151.009995  151.009995   \n",
       "2023-02-10   NFLX  359.160004  362.140015  347.140015  347.359985  347.359985   \n",
       "2023-02-13   MSFT  267.640015  274.600006  267.149994  271.320007  270.642120   \n",
       "2023-02-13   GOOG   95.010002   95.349998   94.050003   95.000000   95.000000   \n",
       "2023-02-13   NFLX  349.500000  359.700012  344.250000  358.570007  358.570007   \n",
       "2023-02-13   AAPL  150.949997  154.259995  150.919998  153.850006  153.850006   \n",
       "\n",
       "              Volume  Weekday  is_weekend  Quarter   Day_sin       Day_cos  \\\n",
       "Date                                                                         \n",
       "2023-02-07  83322600        1           0        1  1.000000  6.123234e-17   \n",
       "2023-02-07  50841400        1           0        1  1.000000  6.123234e-17   \n",
       "2023-02-07  33738800        1           0        1  1.000000  6.123234e-17   \n",
       "2023-02-07   6289400        1           0        1  1.000000  6.123234e-17   \n",
       "2023-02-08  73546000        2           0        1  0.974928 -2.225209e-01   \n",
       "2023-02-08  54686000        2           0        1  0.974928 -2.225209e-01   \n",
       "2023-02-08  64120100        2           0        1  0.974928 -2.225209e-01   \n",
       "2023-02-08   6253200        2           0        1  0.974928 -2.225209e-01   \n",
       "2023-02-09  42375100        3           0        1  0.900969 -4.338837e-01   \n",
       "2023-02-09  97798600        3           0        1  0.900969 -4.338837e-01   \n",
       "2023-02-09  56007100        3           0        1  0.900969 -4.338837e-01   \n",
       "2023-02-09   6901100        3           0        1  0.900969 -4.338837e-01   \n",
       "2023-02-10  25818500        4           0        1  0.781831 -6.234898e-01   \n",
       "2023-02-10  49325300        4           0        1  0.781831 -6.234898e-01   \n",
       "2023-02-10  57450700        4           0        1  0.781831 -6.234898e-01   \n",
       "2023-02-10   7291100        4           0        1  0.781831 -6.234898e-01   \n",
       "2023-02-13  44630900        0           0        1  0.222521 -9.749279e-01   \n",
       "2023-02-13  43116600        0           0        1  0.222521 -9.749279e-01   \n",
       "2023-02-13   7134400        0           0        1  0.222521 -9.749279e-01   \n",
       "2023-02-13  62199000        0           0        1  0.222521 -9.749279e-01   \n",
       "\n",
       "            Month_sin  Month_cos  Day_of_Year_sin  Day_of_Year_cos      Target  \n",
       "Date                                                                            \n",
       "2023-02-07   0.866025        0.5         0.608477         0.793572  151.688400  \n",
       "2023-02-07   0.866025        0.5         0.608477         0.793572  266.063599  \n",
       "2023-02-07   0.866025        0.5         0.608477         0.793572  100.000000  \n",
       "2023-02-07   0.866025        0.5         0.608477         0.793572  366.829987  \n",
       "2023-02-08   0.866025        0.5         0.622047         0.782980   95.459999  \n",
       "2023-02-08   0.866025        0.5         0.622047         0.782980  262.961365  \n",
       "2023-02-08   0.866025        0.5         0.622047         0.782980  150.639999  \n",
       "2023-02-08   0.866025        0.5         0.622047         0.782980  362.500000  \n",
       "2023-02-09   0.866025        0.5         0.635432         0.772157  262.442657  \n",
       "2023-02-09   0.866025        0.5         0.635432         0.772157   94.860001  \n",
       "2023-02-09   0.866025        0.5         0.635432         0.772157  151.009995  \n",
       "2023-02-09   0.866025        0.5         0.635432         0.772157  347.359985  \n",
       "2023-02-10   0.866025        0.5         0.648630         0.761104  270.642120  \n",
       "2023-02-10   0.866025        0.5         0.648630         0.761104   95.000000  \n",
       "2023-02-10   0.866025        0.5         0.648630         0.761104  153.850006  \n",
       "2023-02-10   0.866025        0.5         0.648630         0.761104  358.570007  \n",
       "2023-02-13   0.866025        0.5         0.687053         0.726608  271.490021  \n",
       "2023-02-13   0.866025        0.5         0.687053         0.726608   94.949997  \n",
       "2023-02-13   0.866025        0.5         0.687053         0.726608  359.959991  \n",
       "2023-02-13   0.866025        0.5         0.687053         0.726608  153.199997  "
      ]
     },
     "execution_count": 67,
     "metadata": {},
     "output_type": "execute_result"
    }
   ],
   "source": [
    "df.head(20)"
   ]
  },
  {
   "cell_type": "code",
   "execution_count": 68,
   "metadata": {
    "execution": {
     "iopub.execute_input": "2025-02-04T12:07:19.554456Z",
     "iopub.status.busy": "2025-02-04T12:07:19.554054Z",
     "iopub.status.idle": "2025-02-04T12:07:19.563038Z",
     "shell.execute_reply": "2025-02-04T12:07:19.561868Z",
     "shell.execute_reply.started": "2025-02-04T12:07:19.554425Z"
    }
   },
   "outputs": [
    {
     "data": {
      "text/plain": [
       "Ticker             0\n",
       "Open               0\n",
       "High               0\n",
       "Low                0\n",
       "Close              0\n",
       "Adj Close          0\n",
       "Volume             0\n",
       "Weekday            0\n",
       "is_weekend         0\n",
       "Quarter            0\n",
       "Day_sin            0\n",
       "Day_cos            0\n",
       "Month_sin          0\n",
       "Month_cos          0\n",
       "Day_of_Year_sin    0\n",
       "Day_of_Year_cos    0\n",
       "Target             4\n",
       "dtype: int64"
      ]
     },
     "execution_count": 68,
     "metadata": {},
     "output_type": "execute_result"
    }
   ],
   "source": [
    "df.isnull().sum()"
   ]
  },
  {
   "cell_type": "code",
   "execution_count": 69,
   "metadata": {
    "execution": {
     "iopub.execute_input": "2025-02-04T12:07:23.377283Z",
     "iopub.status.busy": "2025-02-04T12:07:23.376765Z",
     "iopub.status.idle": "2025-02-04T12:07:23.386278Z",
     "shell.execute_reply": "2025-02-04T12:07:23.384607Z",
     "shell.execute_reply.started": "2025-02-04T12:07:23.377250Z"
    }
   },
   "outputs": [],
   "source": [
    "df.dropna(subset=[\"Target\"],inplace=True)"
   ]
  },
  {
   "cell_type": "code",
   "execution_count": 70,
   "metadata": {
    "execution": {
     "iopub.execute_input": "2025-02-04T12:07:26.738890Z",
     "iopub.status.busy": "2025-02-04T12:07:26.738558Z",
     "iopub.status.idle": "2025-02-04T12:07:26.747837Z",
     "shell.execute_reply": "2025-02-04T12:07:26.746270Z",
     "shell.execute_reply.started": "2025-02-04T12:07:26.738866Z"
    }
   },
   "outputs": [
    {
     "data": {
      "text/plain": [
       "Ticker             0\n",
       "Open               0\n",
       "High               0\n",
       "Low                0\n",
       "Close              0\n",
       "Adj Close          0\n",
       "Volume             0\n",
       "Weekday            0\n",
       "is_weekend         0\n",
       "Quarter            0\n",
       "Day_sin            0\n",
       "Day_cos            0\n",
       "Month_sin          0\n",
       "Month_cos          0\n",
       "Day_of_Year_sin    0\n",
       "Day_of_Year_cos    0\n",
       "Target             0\n",
       "dtype: int64"
      ]
     },
     "execution_count": 70,
     "metadata": {},
     "output_type": "execute_result"
    }
   ],
   "source": [
    "df.isnull().sum()"
   ]
  },
  {
   "cell_type": "code",
   "execution_count": 71,
   "metadata": {
    "execution": {
     "iopub.execute_input": "2025-02-04T12:07:33.289862Z",
     "iopub.status.busy": "2025-02-04T12:07:33.289412Z",
     "iopub.status.idle": "2025-02-04T12:07:33.295939Z",
     "shell.execute_reply": "2025-02-04T12:07:33.294456Z",
     "shell.execute_reply.started": "2025-02-04T12:07:33.289830Z"
    }
   },
   "outputs": [],
   "source": [
    "df['Close_Adj_Diff'] = df['Adj Close'] - df['Close']"
   ]
  },
  {
   "cell_type": "code",
   "execution_count": 72,
   "metadata": {
    "execution": {
     "iopub.execute_input": "2025-02-04T12:07:35.320102Z",
     "iopub.status.busy": "2025-02-04T12:07:35.319710Z",
     "iopub.status.idle": "2025-02-04T12:07:35.329552Z",
     "shell.execute_reply": "2025-02-04T12:07:35.328147Z",
     "shell.execute_reply.started": "2025-02-04T12:07:35.320069Z"
    }
   },
   "outputs": [
    {
     "name": "stdout",
     "output_type": "stream",
     "text": [
      "count    244.000000\n",
      "mean      -0.019287\n",
      "std        0.106384\n",
      "min       -0.679993\n",
      "25%        0.000000\n",
      "50%        0.000000\n",
      "75%        0.000000\n",
      "max        0.000000\n",
      "Name: Close_Adj_Diff, dtype: float64\n"
     ]
    }
   ],
   "source": [
    "print(df['Close_Adj_Diff'].describe())"
   ]
  },
  {
   "cell_type": "code",
   "execution_count": 73,
   "metadata": {
    "execution": {
     "iopub.execute_input": "2025-02-04T12:07:37.574226Z",
     "iopub.status.busy": "2025-02-04T12:07:37.573838Z",
     "iopub.status.idle": "2025-02-04T12:07:37.589255Z",
     "shell.execute_reply": "2025-02-04T12:07:37.587810Z",
     "shell.execute_reply.started": "2025-02-04T12:07:37.574194Z"
    }
   },
   "outputs": [
    {
     "name": "stdout",
     "output_type": "stream",
     "text": [
      "           Ticker        Open        High         Low       Close   Adj Close  \\\n",
      "Date                                                                            \n",
      "2023-02-07   AAPL  150.639999  155.229996  150.639999  154.649994  154.414230   \n",
      "2023-02-07   MSFT  260.529999  268.769989  260.079987  267.559998  266.891510   \n",
      "2023-02-07   GOOG  103.629997  108.669998  103.547997  108.040001  108.040001   \n",
      "2023-02-07   NFLX  358.510010  364.179993  354.179993  362.950012  362.950012   \n",
      "2023-02-08   GOOG  102.690002  103.580002   98.455002  100.000000  100.000000   \n",
      "\n",
      "              Volume  Weekday  is_weekend  Quarter   Day_sin       Day_cos  \\\n",
      "Date                                                                         \n",
      "2023-02-07  83322600        1           0        1  1.000000  6.123234e-17   \n",
      "2023-02-07  50841400        1           0        1  1.000000  6.123234e-17   \n",
      "2023-02-07  33738800        1           0        1  1.000000  6.123234e-17   \n",
      "2023-02-07   6289400        1           0        1  1.000000  6.123234e-17   \n",
      "2023-02-08  73546000        2           0        1  0.974928 -2.225209e-01   \n",
      "\n",
      "            Month_sin  Month_cos  Day_of_Year_sin  Day_of_Year_cos  \\\n",
      "Date                                                                 \n",
      "2023-02-07   0.866025        0.5         0.608477         0.793572   \n",
      "2023-02-07   0.866025        0.5         0.608477         0.793572   \n",
      "2023-02-07   0.866025        0.5         0.608477         0.793572   \n",
      "2023-02-07   0.866025        0.5         0.608477         0.793572   \n",
      "2023-02-08   0.866025        0.5         0.622047         0.782980   \n",
      "\n",
      "                Target  Close_Adj_Diff  \n",
      "Date                                    \n",
      "2023-02-07  151.688400       -0.235764  \n",
      "2023-02-07  266.063599       -0.668488  \n",
      "2023-02-07  100.000000        0.000000  \n",
      "2023-02-07  366.829987        0.000000  \n",
      "2023-02-08   95.459999        0.000000  \n",
      "Ticker             0\n",
      "Open               0\n",
      "High               0\n",
      "Low                0\n",
      "Close              0\n",
      "Adj Close          0\n",
      "Volume             0\n",
      "Weekday            0\n",
      "is_weekend         0\n",
      "Quarter            0\n",
      "Day_sin            0\n",
      "Day_cos            0\n",
      "Month_sin          0\n",
      "Month_cos          0\n",
      "Day_of_Year_sin    0\n",
      "Day_of_Year_cos    0\n",
      "Target             0\n",
      "Close_Adj_Diff     0\n",
      "dtype: int64\n"
     ]
    }
   ],
   "source": [
    "print(df.head())\n",
    "print(df.isnull().sum())"
   ]
  },
  {
   "cell_type": "markdown",
   "metadata": {},
   "source": [
    "**Feature Engineering**\n",
    "* Daily-Return(Günlük Değişim Yüzdesi)\n",
    "* Moving Average - MA(Hareketli Ortalama )\n",
    "* Volatilite(Fiyat dalgalanmalarının büyüklüğü )\n",
    "* Relative Strength Index - Göreceli Güç Endeksi(RSI)\n",
    "* Moving Average Convergence Divergence - Hareketli Ortalama Yakınsama(MACD)"
   ]
  },
  {
   "cell_type": "code",
   "execution_count": 74,
   "metadata": {
    "execution": {
     "iopub.execute_input": "2025-02-04T12:07:43.087029Z",
     "iopub.status.busy": "2025-02-04T12:07:43.086702Z",
     "iopub.status.idle": "2025-02-04T12:07:43.095134Z",
     "shell.execute_reply": "2025-02-04T12:07:43.093937Z",
     "shell.execute_reply.started": "2025-02-04T12:07:43.087004Z"
    }
   },
   "outputs": [],
   "source": [
    "df['Daily_Return'] = df.groupby('Ticker')['Adj Close'].pct_change()"
   ]
  },
  {
   "cell_type": "code",
   "execution_count": 75,
   "metadata": {
    "execution": {
     "iopub.execute_input": "2025-02-04T12:07:49.720274Z",
     "iopub.status.busy": "2025-02-04T12:07:49.719902Z",
     "iopub.status.idle": "2025-02-04T12:07:49.738454Z",
     "shell.execute_reply": "2025-02-04T12:07:49.737235Z",
     "shell.execute_reply.started": "2025-02-04T12:07:49.720243Z"
    }
   },
   "outputs": [],
   "source": [
    "df[\"MA_5\"] = df.groupby(\"Ticker\")[\"Adj Close\"].transform(lambda x: x.rolling(window=5).mean())\n",
    "df[\"MA_10\"] = df.groupby(\"Ticker\")[\"Adj Close\"].transform(lambda x: x.rolling(window=10).mean())"
   ]
  },
  {
   "cell_type": "code",
   "execution_count": 76,
   "metadata": {
    "execution": {
     "iopub.execute_input": "2025-02-04T12:07:52.660535Z",
     "iopub.status.busy": "2025-02-04T12:07:52.660155Z",
     "iopub.status.idle": "2025-02-04T12:07:52.672539Z",
     "shell.execute_reply": "2025-02-04T12:07:52.670779Z",
     "shell.execute_reply.started": "2025-02-04T12:07:52.660506Z"
    }
   },
   "outputs": [],
   "source": [
    "df[\"Volatilite\"] = df.groupby(\"Ticker\")[\"Adj Close\"].transform(lambda x: x.rolling(window=5).std())"
   ]
  },
  {
   "cell_type": "code",
   "execution_count": 78,
   "metadata": {
    "execution": {
     "iopub.execute_input": "2025-02-04T12:08:02.378515Z",
     "iopub.status.busy": "2025-02-04T12:08:02.378027Z",
     "iopub.status.idle": "2025-02-04T12:08:02.400423Z",
     "shell.execute_reply": "2025-02-04T12:08:02.398834Z",
     "shell.execute_reply.started": "2025-02-04T12:08:02.378483Z"
    }
   },
   "outputs": [
    {
     "name": "stderr",
     "output_type": "stream",
     "text": [
      "/usr/local/lib/python3.10/dist-packages/pandas/core/computation/expressions.py:73: RuntimeWarning: invalid value encountered in greater\n",
      "  return op(a, b)\n",
      "/usr/local/lib/python3.10/dist-packages/pandas/core/computation/expressions.py:73: RuntimeWarning: invalid value encountered in less\n",
      "  return op(a, b)\n",
      "/usr/local/lib/python3.10/dist-packages/pandas/core/computation/expressions.py:73: RuntimeWarning: invalid value encountered in greater\n",
      "  return op(a, b)\n",
      "/usr/local/lib/python3.10/dist-packages/pandas/core/computation/expressions.py:73: RuntimeWarning: invalid value encountered in less\n",
      "  return op(a, b)\n",
      "/usr/local/lib/python3.10/dist-packages/pandas/core/computation/expressions.py:73: RuntimeWarning: invalid value encountered in greater\n",
      "  return op(a, b)\n",
      "/usr/local/lib/python3.10/dist-packages/pandas/core/computation/expressions.py:73: RuntimeWarning: invalid value encountered in less\n",
      "  return op(a, b)\n",
      "/usr/local/lib/python3.10/dist-packages/pandas/core/computation/expressions.py:73: RuntimeWarning: invalid value encountered in greater\n",
      "  return op(a, b)\n",
      "/usr/local/lib/python3.10/dist-packages/pandas/core/computation/expressions.py:73: RuntimeWarning: invalid value encountered in less\n",
      "  return op(a, b)\n"
     ]
    }
   ],
   "source": [
    "def compute_rsi(series, window=14):\n",
    "    delta = series.diff()\n",
    "    \n",
    "    gain = (delta.where(delta > 0, 0)).rolling(window=window).mean()  # Kazançları al\n",
    "    loss = (-delta.where(delta < 0, 0)).rolling(window=window).mean()  # Kayıpları al\n",
    "    \n",
    "    rs = gain / loss\n",
    "    \n",
    "    rsi = 100 - (100 / (1 + rs))\n",
    "    return rsi\n",
    "\n",
    "df['RSI'] = df.groupby('Ticker')['Adj Close'].transform(lambda x: compute_rsi(x, window=14))"
   ]
  },
  {
   "cell_type": "code",
   "execution_count": 79,
   "metadata": {
    "execution": {
     "iopub.execute_input": "2025-02-04T12:08:04.564286Z",
     "iopub.status.busy": "2025-02-04T12:08:04.563906Z",
     "iopub.status.idle": "2025-02-04T12:08:04.595639Z",
     "shell.execute_reply": "2025-02-04T12:08:04.593862Z",
     "shell.execute_reply.started": "2025-02-04T12:08:04.564254Z"
    }
   },
   "outputs": [
    {
     "name": "stderr",
     "output_type": "stream",
     "text": [
      "/usr/local/lib/python3.10/dist-packages/pandas/io/formats/format.py:1458: RuntimeWarning: invalid value encountered in greater\n",
      "  has_large_values = (abs_vals > 1e6).any()\n",
      "/usr/local/lib/python3.10/dist-packages/pandas/io/formats/format.py:1459: RuntimeWarning: invalid value encountered in less\n",
      "  has_small_values = ((abs_vals < 10 ** (-self.digits)) & (abs_vals > 0)).any()\n",
      "/usr/local/lib/python3.10/dist-packages/pandas/io/formats/format.py:1459: RuntimeWarning: invalid value encountered in greater\n",
      "  has_small_values = ((abs_vals < 10 ** (-self.digits)) & (abs_vals > 0)).any()\n",
      "/usr/local/lib/python3.10/dist-packages/pandas/io/formats/format.py:1458: RuntimeWarning: invalid value encountered in greater\n",
      "  has_large_values = (abs_vals > 1e6).any()\n",
      "/usr/local/lib/python3.10/dist-packages/pandas/io/formats/format.py:1459: RuntimeWarning: invalid value encountered in less\n",
      "  has_small_values = ((abs_vals < 10 ** (-self.digits)) & (abs_vals > 0)).any()\n",
      "/usr/local/lib/python3.10/dist-packages/pandas/io/formats/format.py:1459: RuntimeWarning: invalid value encountered in greater\n",
      "  has_small_values = ((abs_vals < 10 ** (-self.digits)) & (abs_vals > 0)).any()\n"
     ]
    },
    {
     "data": {
      "text/html": [
       "<div>\n",
       "<style scoped>\n",
       "    .dataframe tbody tr th:only-of-type {\n",
       "        vertical-align: middle;\n",
       "    }\n",
       "\n",
       "    .dataframe tbody tr th {\n",
       "        vertical-align: top;\n",
       "    }\n",
       "\n",
       "    .dataframe thead th {\n",
       "        text-align: right;\n",
       "    }\n",
       "</style>\n",
       "<table border=\"1\" class=\"dataframe\">\n",
       "  <thead>\n",
       "    <tr style=\"text-align: right;\">\n",
       "      <th></th>\n",
       "      <th>Ticker</th>\n",
       "      <th>Open</th>\n",
       "      <th>High</th>\n",
       "      <th>Low</th>\n",
       "      <th>Close</th>\n",
       "      <th>Adj Close</th>\n",
       "      <th>Volume</th>\n",
       "      <th>Weekday</th>\n",
       "      <th>is_weekend</th>\n",
       "      <th>Quarter</th>\n",
       "      <th>...</th>\n",
       "      <th>Month_cos</th>\n",
       "      <th>Day_of_Year_sin</th>\n",
       "      <th>Day_of_Year_cos</th>\n",
       "      <th>Target</th>\n",
       "      <th>Close_Adj_Diff</th>\n",
       "      <th>Daily_Return</th>\n",
       "      <th>MA_5</th>\n",
       "      <th>MA_10</th>\n",
       "      <th>Volatilite</th>\n",
       "      <th>RSI</th>\n",
       "    </tr>\n",
       "    <tr>\n",
       "      <th>Date</th>\n",
       "      <th></th>\n",
       "      <th></th>\n",
       "      <th></th>\n",
       "      <th></th>\n",
       "      <th></th>\n",
       "      <th></th>\n",
       "      <th></th>\n",
       "      <th></th>\n",
       "      <th></th>\n",
       "      <th></th>\n",
       "      <th></th>\n",
       "      <th></th>\n",
       "      <th></th>\n",
       "      <th></th>\n",
       "      <th></th>\n",
       "      <th></th>\n",
       "      <th></th>\n",
       "      <th></th>\n",
       "      <th></th>\n",
       "      <th></th>\n",
       "      <th></th>\n",
       "    </tr>\n",
       "  </thead>\n",
       "  <tbody>\n",
       "    <tr>\n",
       "      <th>2023-02-07</th>\n",
       "      <td>AAPL</td>\n",
       "      <td>150.639999</td>\n",
       "      <td>155.229996</td>\n",
       "      <td>150.639999</td>\n",
       "      <td>154.649994</td>\n",
       "      <td>154.414230</td>\n",
       "      <td>83322600</td>\n",
       "      <td>1</td>\n",
       "      <td>0</td>\n",
       "      <td>1</td>\n",
       "      <td>...</td>\n",
       "      <td>0.5</td>\n",
       "      <td>0.608477</td>\n",
       "      <td>0.793572</td>\n",
       "      <td>151.688400</td>\n",
       "      <td>-0.235764</td>\n",
       "      <td>NaN</td>\n",
       "      <td>NaN</td>\n",
       "      <td>NaN</td>\n",
       "      <td>NaN</td>\n",
       "      <td>NaN</td>\n",
       "    </tr>\n",
       "    <tr>\n",
       "      <th>2023-02-07</th>\n",
       "      <td>MSFT</td>\n",
       "      <td>260.529999</td>\n",
       "      <td>268.769989</td>\n",
       "      <td>260.079987</td>\n",
       "      <td>267.559998</td>\n",
       "      <td>266.891510</td>\n",
       "      <td>50841400</td>\n",
       "      <td>1</td>\n",
       "      <td>0</td>\n",
       "      <td>1</td>\n",
       "      <td>...</td>\n",
       "      <td>0.5</td>\n",
       "      <td>0.608477</td>\n",
       "      <td>0.793572</td>\n",
       "      <td>266.063599</td>\n",
       "      <td>-0.668488</td>\n",
       "      <td>NaN</td>\n",
       "      <td>NaN</td>\n",
       "      <td>NaN</td>\n",
       "      <td>NaN</td>\n",
       "      <td>NaN</td>\n",
       "    </tr>\n",
       "    <tr>\n",
       "      <th>2023-02-07</th>\n",
       "      <td>GOOG</td>\n",
       "      <td>103.629997</td>\n",
       "      <td>108.669998</td>\n",
       "      <td>103.547997</td>\n",
       "      <td>108.040001</td>\n",
       "      <td>108.040001</td>\n",
       "      <td>33738800</td>\n",
       "      <td>1</td>\n",
       "      <td>0</td>\n",
       "      <td>1</td>\n",
       "      <td>...</td>\n",
       "      <td>0.5</td>\n",
       "      <td>0.608477</td>\n",
       "      <td>0.793572</td>\n",
       "      <td>100.000000</td>\n",
       "      <td>0.000000</td>\n",
       "      <td>NaN</td>\n",
       "      <td>NaN</td>\n",
       "      <td>NaN</td>\n",
       "      <td>NaN</td>\n",
       "      <td>NaN</td>\n",
       "    </tr>\n",
       "    <tr>\n",
       "      <th>2023-02-07</th>\n",
       "      <td>NFLX</td>\n",
       "      <td>358.510010</td>\n",
       "      <td>364.179993</td>\n",
       "      <td>354.179993</td>\n",
       "      <td>362.950012</td>\n",
       "      <td>362.950012</td>\n",
       "      <td>6289400</td>\n",
       "      <td>1</td>\n",
       "      <td>0</td>\n",
       "      <td>1</td>\n",
       "      <td>...</td>\n",
       "      <td>0.5</td>\n",
       "      <td>0.608477</td>\n",
       "      <td>0.793572</td>\n",
       "      <td>366.829987</td>\n",
       "      <td>0.000000</td>\n",
       "      <td>NaN</td>\n",
       "      <td>NaN</td>\n",
       "      <td>NaN</td>\n",
       "      <td>NaN</td>\n",
       "      <td>NaN</td>\n",
       "    </tr>\n",
       "    <tr>\n",
       "      <th>2023-02-08</th>\n",
       "      <td>GOOG</td>\n",
       "      <td>102.690002</td>\n",
       "      <td>103.580002</td>\n",
       "      <td>98.455002</td>\n",
       "      <td>100.000000</td>\n",
       "      <td>100.000000</td>\n",
       "      <td>73546000</td>\n",
       "      <td>2</td>\n",
       "      <td>0</td>\n",
       "      <td>1</td>\n",
       "      <td>...</td>\n",
       "      <td>0.5</td>\n",
       "      <td>0.622047</td>\n",
       "      <td>0.782980</td>\n",
       "      <td>95.459999</td>\n",
       "      <td>0.000000</td>\n",
       "      <td>-0.074417</td>\n",
       "      <td>NaN</td>\n",
       "      <td>NaN</td>\n",
       "      <td>NaN</td>\n",
       "      <td>NaN</td>\n",
       "    </tr>\n",
       "  </tbody>\n",
       "</table>\n",
       "<p>5 rows × 23 columns</p>\n",
       "</div>"
      ],
      "text/plain": [
       "           Ticker        Open        High         Low       Close   Adj Close  \\\n",
       "Date                                                                            \n",
       "2023-02-07   AAPL  150.639999  155.229996  150.639999  154.649994  154.414230   \n",
       "2023-02-07   MSFT  260.529999  268.769989  260.079987  267.559998  266.891510   \n",
       "2023-02-07   GOOG  103.629997  108.669998  103.547997  108.040001  108.040001   \n",
       "2023-02-07   NFLX  358.510010  364.179993  354.179993  362.950012  362.950012   \n",
       "2023-02-08   GOOG  102.690002  103.580002   98.455002  100.000000  100.000000   \n",
       "\n",
       "              Volume  Weekday  is_weekend  Quarter  ...  Month_cos  \\\n",
       "Date                                                ...              \n",
       "2023-02-07  83322600        1           0        1  ...        0.5   \n",
       "2023-02-07  50841400        1           0        1  ...        0.5   \n",
       "2023-02-07  33738800        1           0        1  ...        0.5   \n",
       "2023-02-07   6289400        1           0        1  ...        0.5   \n",
       "2023-02-08  73546000        2           0        1  ...        0.5   \n",
       "\n",
       "            Day_of_Year_sin  Day_of_Year_cos      Target  Close_Adj_Diff  \\\n",
       "Date                                                                       \n",
       "2023-02-07         0.608477         0.793572  151.688400       -0.235764   \n",
       "2023-02-07         0.608477         0.793572  266.063599       -0.668488   \n",
       "2023-02-07         0.608477         0.793572  100.000000        0.000000   \n",
       "2023-02-07         0.608477         0.793572  366.829987        0.000000   \n",
       "2023-02-08         0.622047         0.782980   95.459999        0.000000   \n",
       "\n",
       "            Daily_Return  MA_5  MA_10  Volatilite  RSI  \n",
       "Date                                                    \n",
       "2023-02-07           NaN   NaN    NaN         NaN  NaN  \n",
       "2023-02-07           NaN   NaN    NaN         NaN  NaN  \n",
       "2023-02-07           NaN   NaN    NaN         NaN  NaN  \n",
       "2023-02-07           NaN   NaN    NaN         NaN  NaN  \n",
       "2023-02-08     -0.074417   NaN    NaN         NaN  NaN  \n",
       "\n",
       "[5 rows x 23 columns]"
      ]
     },
     "execution_count": 79,
     "metadata": {},
     "output_type": "execute_result"
    }
   ],
   "source": [
    "df.head()"
   ]
  },
  {
   "cell_type": "code",
   "execution_count": 80,
   "metadata": {
    "execution": {
     "iopub.execute_input": "2025-02-04T12:08:08.018904Z",
     "iopub.status.busy": "2025-02-04T12:08:08.018526Z",
     "iopub.status.idle": "2025-02-04T12:08:08.028479Z",
     "shell.execute_reply": "2025-02-04T12:08:08.027436Z",
     "shell.execute_reply.started": "2025-02-04T12:08:08.018873Z"
    }
   },
   "outputs": [
    {
     "data": {
      "text/plain": [
       "Ticker              0\n",
       "Open                0\n",
       "High                0\n",
       "Low                 0\n",
       "Close               0\n",
       "Adj Close           0\n",
       "Volume              0\n",
       "Weekday             0\n",
       "is_weekend          0\n",
       "Quarter             0\n",
       "Day_sin             0\n",
       "Day_cos             0\n",
       "Month_sin           0\n",
       "Month_cos           0\n",
       "Day_of_Year_sin     0\n",
       "Day_of_Year_cos     0\n",
       "Target              0\n",
       "Close_Adj_Diff      0\n",
       "Daily_Return        4\n",
       "MA_5               16\n",
       "MA_10              36\n",
       "Volatilite         16\n",
       "RSI                52\n",
       "dtype: int64"
      ]
     },
     "execution_count": 80,
     "metadata": {},
     "output_type": "execute_result"
    }
   ],
   "source": [
    "df.isnull().sum()"
   ]
  },
  {
   "cell_type": "code",
   "execution_count": 81,
   "metadata": {
    "execution": {
     "iopub.execute_input": "2025-02-04T12:08:10.715437Z",
     "iopub.status.busy": "2025-02-04T12:08:10.714982Z",
     "iopub.status.idle": "2025-02-04T12:08:10.736014Z",
     "shell.execute_reply": "2025-02-04T12:08:10.734624Z",
     "shell.execute_reply.started": "2025-02-04T12:08:10.715402Z"
    }
   },
   "outputs": [],
   "source": [
    "def compute_macd(data, short_window=12, long_window=26, signal_window=9):\n",
    "    short_ema = data.ewm(span=short_window, min_periods=1, adjust=False).mean()\n",
    "    long_ema = data.ewm(span=long_window, min_periods=1, adjust=False).mean()\n",
    "    macd = short_ema - long_ema\n",
    "    signal_line = macd.ewm(span=signal_window, min_periods=1, adjust=False).mean()\n",
    "    return macd, signal_line\n",
    "\n",
    "df['MACD'] = df.groupby('Ticker')['Adj Close'].transform(lambda x: compute_macd(x)[0])\n",
    "df['MACD_Signal'] = df.groupby('Ticker')['Adj Close'].transform(lambda x: compute_macd(x)[1])"
   ]
  },
  {
   "cell_type": "code",
   "execution_count": 82,
   "metadata": {
    "execution": {
     "iopub.execute_input": "2025-02-04T12:08:13.723620Z",
     "iopub.status.busy": "2025-02-04T12:08:13.723178Z",
     "iopub.status.idle": "2025-02-04T12:08:13.753454Z",
     "shell.execute_reply": "2025-02-04T12:08:13.752221Z",
     "shell.execute_reply.started": "2025-02-04T12:08:13.723579Z"
    }
   },
   "outputs": [
    {
     "name": "stderr",
     "output_type": "stream",
     "text": [
      "/usr/local/lib/python3.10/dist-packages/pandas/io/formats/format.py:1458: RuntimeWarning: invalid value encountered in greater\n",
      "  has_large_values = (abs_vals > 1e6).any()\n",
      "/usr/local/lib/python3.10/dist-packages/pandas/io/formats/format.py:1459: RuntimeWarning: invalid value encountered in less\n",
      "  has_small_values = ((abs_vals < 10 ** (-self.digits)) & (abs_vals > 0)).any()\n",
      "/usr/local/lib/python3.10/dist-packages/pandas/io/formats/format.py:1459: RuntimeWarning: invalid value encountered in greater\n",
      "  has_small_values = ((abs_vals < 10 ** (-self.digits)) & (abs_vals > 0)).any()\n",
      "/usr/local/lib/python3.10/dist-packages/pandas/io/formats/format.py:1458: RuntimeWarning: invalid value encountered in greater\n",
      "  has_large_values = (abs_vals > 1e6).any()\n",
      "/usr/local/lib/python3.10/dist-packages/pandas/io/formats/format.py:1459: RuntimeWarning: invalid value encountered in less\n",
      "  has_small_values = ((abs_vals < 10 ** (-self.digits)) & (abs_vals > 0)).any()\n",
      "/usr/local/lib/python3.10/dist-packages/pandas/io/formats/format.py:1459: RuntimeWarning: invalid value encountered in greater\n",
      "  has_small_values = ((abs_vals < 10 ** (-self.digits)) & (abs_vals > 0)).any()\n"
     ]
    },
    {
     "data": {
      "text/html": [
       "<div>\n",
       "<style scoped>\n",
       "    .dataframe tbody tr th:only-of-type {\n",
       "        vertical-align: middle;\n",
       "    }\n",
       "\n",
       "    .dataframe tbody tr th {\n",
       "        vertical-align: top;\n",
       "    }\n",
       "\n",
       "    .dataframe thead th {\n",
       "        text-align: right;\n",
       "    }\n",
       "</style>\n",
       "<table border=\"1\" class=\"dataframe\">\n",
       "  <thead>\n",
       "    <tr style=\"text-align: right;\">\n",
       "      <th></th>\n",
       "      <th>Ticker</th>\n",
       "      <th>Open</th>\n",
       "      <th>High</th>\n",
       "      <th>Low</th>\n",
       "      <th>Close</th>\n",
       "      <th>Adj Close</th>\n",
       "      <th>Volume</th>\n",
       "      <th>Weekday</th>\n",
       "      <th>is_weekend</th>\n",
       "      <th>Quarter</th>\n",
       "      <th>...</th>\n",
       "      <th>Day_of_Year_cos</th>\n",
       "      <th>Target</th>\n",
       "      <th>Close_Adj_Diff</th>\n",
       "      <th>Daily_Return</th>\n",
       "      <th>MA_5</th>\n",
       "      <th>MA_10</th>\n",
       "      <th>Volatilite</th>\n",
       "      <th>RSI</th>\n",
       "      <th>MACD</th>\n",
       "      <th>MACD_Signal</th>\n",
       "    </tr>\n",
       "    <tr>\n",
       "      <th>Date</th>\n",
       "      <th></th>\n",
       "      <th></th>\n",
       "      <th></th>\n",
       "      <th></th>\n",
       "      <th></th>\n",
       "      <th></th>\n",
       "      <th></th>\n",
       "      <th></th>\n",
       "      <th></th>\n",
       "      <th></th>\n",
       "      <th></th>\n",
       "      <th></th>\n",
       "      <th></th>\n",
       "      <th></th>\n",
       "      <th></th>\n",
       "      <th></th>\n",
       "      <th></th>\n",
       "      <th></th>\n",
       "      <th></th>\n",
       "      <th></th>\n",
       "      <th></th>\n",
       "    </tr>\n",
       "  </thead>\n",
       "  <tbody>\n",
       "    <tr>\n",
       "      <th>2023-02-07</th>\n",
       "      <td>AAPL</td>\n",
       "      <td>150.639999</td>\n",
       "      <td>155.229996</td>\n",
       "      <td>150.639999</td>\n",
       "      <td>154.649994</td>\n",
       "      <td>154.414230</td>\n",
       "      <td>83322600</td>\n",
       "      <td>1</td>\n",
       "      <td>0</td>\n",
       "      <td>1</td>\n",
       "      <td>...</td>\n",
       "      <td>0.793572</td>\n",
       "      <td>151.688400</td>\n",
       "      <td>-0.235764</td>\n",
       "      <td>NaN</td>\n",
       "      <td>NaN</td>\n",
       "      <td>NaN</td>\n",
       "      <td>NaN</td>\n",
       "      <td>NaN</td>\n",
       "      <td>0.000000</td>\n",
       "      <td>0.000000</td>\n",
       "    </tr>\n",
       "    <tr>\n",
       "      <th>2023-02-07</th>\n",
       "      <td>MSFT</td>\n",
       "      <td>260.529999</td>\n",
       "      <td>268.769989</td>\n",
       "      <td>260.079987</td>\n",
       "      <td>267.559998</td>\n",
       "      <td>266.891510</td>\n",
       "      <td>50841400</td>\n",
       "      <td>1</td>\n",
       "      <td>0</td>\n",
       "      <td>1</td>\n",
       "      <td>...</td>\n",
       "      <td>0.793572</td>\n",
       "      <td>266.063599</td>\n",
       "      <td>-0.668488</td>\n",
       "      <td>NaN</td>\n",
       "      <td>NaN</td>\n",
       "      <td>NaN</td>\n",
       "      <td>NaN</td>\n",
       "      <td>NaN</td>\n",
       "      <td>0.000000</td>\n",
       "      <td>0.000000</td>\n",
       "    </tr>\n",
       "    <tr>\n",
       "      <th>2023-02-07</th>\n",
       "      <td>GOOG</td>\n",
       "      <td>103.629997</td>\n",
       "      <td>108.669998</td>\n",
       "      <td>103.547997</td>\n",
       "      <td>108.040001</td>\n",
       "      <td>108.040001</td>\n",
       "      <td>33738800</td>\n",
       "      <td>1</td>\n",
       "      <td>0</td>\n",
       "      <td>1</td>\n",
       "      <td>...</td>\n",
       "      <td>0.793572</td>\n",
       "      <td>100.000000</td>\n",
       "      <td>0.000000</td>\n",
       "      <td>NaN</td>\n",
       "      <td>NaN</td>\n",
       "      <td>NaN</td>\n",
       "      <td>NaN</td>\n",
       "      <td>NaN</td>\n",
       "      <td>0.000000</td>\n",
       "      <td>0.000000</td>\n",
       "    </tr>\n",
       "    <tr>\n",
       "      <th>2023-02-07</th>\n",
       "      <td>NFLX</td>\n",
       "      <td>358.510010</td>\n",
       "      <td>364.179993</td>\n",
       "      <td>354.179993</td>\n",
       "      <td>362.950012</td>\n",
       "      <td>362.950012</td>\n",
       "      <td>6289400</td>\n",
       "      <td>1</td>\n",
       "      <td>0</td>\n",
       "      <td>1</td>\n",
       "      <td>...</td>\n",
       "      <td>0.793572</td>\n",
       "      <td>366.829987</td>\n",
       "      <td>0.000000</td>\n",
       "      <td>NaN</td>\n",
       "      <td>NaN</td>\n",
       "      <td>NaN</td>\n",
       "      <td>NaN</td>\n",
       "      <td>NaN</td>\n",
       "      <td>0.000000</td>\n",
       "      <td>0.000000</td>\n",
       "    </tr>\n",
       "    <tr>\n",
       "      <th>2023-02-08</th>\n",
       "      <td>GOOG</td>\n",
       "      <td>102.690002</td>\n",
       "      <td>103.580002</td>\n",
       "      <td>98.455002</td>\n",
       "      <td>100.000000</td>\n",
       "      <td>100.000000</td>\n",
       "      <td>73546000</td>\n",
       "      <td>2</td>\n",
       "      <td>0</td>\n",
       "      <td>1</td>\n",
       "      <td>...</td>\n",
       "      <td>0.782980</td>\n",
       "      <td>95.459999</td>\n",
       "      <td>0.000000</td>\n",
       "      <td>-0.074417</td>\n",
       "      <td>NaN</td>\n",
       "      <td>NaN</td>\n",
       "      <td>NaN</td>\n",
       "      <td>NaN</td>\n",
       "      <td>-0.641368</td>\n",
       "      <td>-0.128274</td>\n",
       "    </tr>\n",
       "  </tbody>\n",
       "</table>\n",
       "<p>5 rows × 25 columns</p>\n",
       "</div>"
      ],
      "text/plain": [
       "           Ticker        Open        High         Low       Close   Adj Close  \\\n",
       "Date                                                                            \n",
       "2023-02-07   AAPL  150.639999  155.229996  150.639999  154.649994  154.414230   \n",
       "2023-02-07   MSFT  260.529999  268.769989  260.079987  267.559998  266.891510   \n",
       "2023-02-07   GOOG  103.629997  108.669998  103.547997  108.040001  108.040001   \n",
       "2023-02-07   NFLX  358.510010  364.179993  354.179993  362.950012  362.950012   \n",
       "2023-02-08   GOOG  102.690002  103.580002   98.455002  100.000000  100.000000   \n",
       "\n",
       "              Volume  Weekday  is_weekend  Quarter  ...  Day_of_Year_cos  \\\n",
       "Date                                                ...                    \n",
       "2023-02-07  83322600        1           0        1  ...         0.793572   \n",
       "2023-02-07  50841400        1           0        1  ...         0.793572   \n",
       "2023-02-07  33738800        1           0        1  ...         0.793572   \n",
       "2023-02-07   6289400        1           0        1  ...         0.793572   \n",
       "2023-02-08  73546000        2           0        1  ...         0.782980   \n",
       "\n",
       "                Target  Close_Adj_Diff  Daily_Return  MA_5  MA_10  Volatilite  \\\n",
       "Date                                                                            \n",
       "2023-02-07  151.688400       -0.235764           NaN   NaN    NaN         NaN   \n",
       "2023-02-07  266.063599       -0.668488           NaN   NaN    NaN         NaN   \n",
       "2023-02-07  100.000000        0.000000           NaN   NaN    NaN         NaN   \n",
       "2023-02-07  366.829987        0.000000           NaN   NaN    NaN         NaN   \n",
       "2023-02-08   95.459999        0.000000     -0.074417   NaN    NaN         NaN   \n",
       "\n",
       "            RSI      MACD  MACD_Signal  \n",
       "Date                                    \n",
       "2023-02-07  NaN  0.000000     0.000000  \n",
       "2023-02-07  NaN  0.000000     0.000000  \n",
       "2023-02-07  NaN  0.000000     0.000000  \n",
       "2023-02-07  NaN  0.000000     0.000000  \n",
       "2023-02-08  NaN -0.641368    -0.128274  \n",
       "\n",
       "[5 rows x 25 columns]"
      ]
     },
     "execution_count": 82,
     "metadata": {},
     "output_type": "execute_result"
    }
   ],
   "source": [
    "df.head()"
   ]
  },
  {
   "cell_type": "code",
   "execution_count": 83,
   "metadata": {
    "execution": {
     "iopub.execute_input": "2025-02-04T12:08:16.674153Z",
     "iopub.status.busy": "2025-02-04T12:08:16.673830Z",
     "iopub.status.idle": "2025-02-04T12:08:16.697642Z",
     "shell.execute_reply": "2025-02-04T12:08:16.696254Z",
     "shell.execute_reply.started": "2025-02-04T12:08:16.674128Z"
    }
   },
   "outputs": [],
   "source": [
    "def compute_bollinger_bands(data, window=20):\n",
    "    sma = data.rolling(window=window).mean()\n",
    "    std = data.rolling(window=window).std()\n",
    "    upper_band = sma + (std * 2)\n",
    "    lower_band = sma - (std * 2)\n",
    "    return upper_band, lower_band\n",
    "\n",
    "df['BB_Upper'] = df.groupby('Ticker')['Adj Close'].transform(lambda x: compute_bollinger_bands(x)[0])\n",
    "df['BB_Lower'] = df.groupby('Ticker')['Adj Close'].transform(lambda x: compute_bollinger_bands(x)[1])"
   ]
  },
  {
   "cell_type": "code",
   "execution_count": 84,
   "metadata": {
    "execution": {
     "iopub.execute_input": "2025-02-04T12:08:19.373828Z",
     "iopub.status.busy": "2025-02-04T12:08:19.373486Z",
     "iopub.status.idle": "2025-02-04T12:08:19.382481Z",
     "shell.execute_reply": "2025-02-04T12:08:19.381465Z",
     "shell.execute_reply.started": "2025-02-04T12:08:19.373800Z"
    }
   },
   "outputs": [
    {
     "data": {
      "text/plain": [
       "Ticker              0\n",
       "Open                0\n",
       "High                0\n",
       "Low                 0\n",
       "Close               0\n",
       "Adj Close           0\n",
       "Volume              0\n",
       "Weekday             0\n",
       "is_weekend          0\n",
       "Quarter             0\n",
       "Day_sin             0\n",
       "Day_cos             0\n",
       "Month_sin           0\n",
       "Month_cos           0\n",
       "Day_of_Year_sin     0\n",
       "Day_of_Year_cos     0\n",
       "Target              0\n",
       "Close_Adj_Diff      0\n",
       "Daily_Return        4\n",
       "MA_5               16\n",
       "MA_10              36\n",
       "Volatilite         16\n",
       "RSI                52\n",
       "MACD                0\n",
       "MACD_Signal         0\n",
       "BB_Upper           76\n",
       "BB_Lower           76\n",
       "dtype: int64"
      ]
     },
     "execution_count": 84,
     "metadata": {},
     "output_type": "execute_result"
    }
   ],
   "source": [
    "df.isnull().sum()"
   ]
  },
  {
   "cell_type": "code",
   "execution_count": 85,
   "metadata": {
    "execution": {
     "iopub.execute_input": "2025-02-04T12:08:21.827000Z",
     "iopub.status.busy": "2025-02-04T12:08:21.826631Z",
     "iopub.status.idle": "2025-02-04T12:08:21.850646Z",
     "shell.execute_reply": "2025-02-04T12:08:21.849339Z",
     "shell.execute_reply.started": "2025-02-04T12:08:21.826973Z"
    }
   },
   "outputs": [],
   "source": [
    "knn_imputer = KNNImputer(n_neighbors=5)\n",
    "numeric_cols = df.select_dtypes(include=[np.number]).columns \n",
    "df[numeric_cols] = knn_imputer.fit_transform(df[numeric_cols])"
   ]
  },
  {
   "cell_type": "code",
   "execution_count": 86,
   "metadata": {
    "execution": {
     "iopub.execute_input": "2025-02-04T12:08:23.679342Z",
     "iopub.status.busy": "2025-02-04T12:08:23.678965Z",
     "iopub.status.idle": "2025-02-04T12:08:23.688612Z",
     "shell.execute_reply": "2025-02-04T12:08:23.687391Z",
     "shell.execute_reply.started": "2025-02-04T12:08:23.679313Z"
    }
   },
   "outputs": [
    {
     "data": {
      "text/plain": [
       "Ticker             0\n",
       "Open               0\n",
       "High               0\n",
       "Low                0\n",
       "Close              0\n",
       "Adj Close          0\n",
       "Volume             0\n",
       "Weekday            0\n",
       "is_weekend         0\n",
       "Quarter            0\n",
       "Day_sin            0\n",
       "Day_cos            0\n",
       "Month_sin          0\n",
       "Month_cos          0\n",
       "Day_of_Year_sin    0\n",
       "Day_of_Year_cos    0\n",
       "Target             0\n",
       "Close_Adj_Diff     0\n",
       "Daily_Return       0\n",
       "MA_5               0\n",
       "MA_10              0\n",
       "Volatilite         0\n",
       "RSI                0\n",
       "MACD               0\n",
       "MACD_Signal        0\n",
       "BB_Upper           0\n",
       "BB_Lower           0\n",
       "dtype: int64"
      ]
     },
     "execution_count": 86,
     "metadata": {},
     "output_type": "execute_result"
    }
   ],
   "source": [
    "df.isnull().sum()"
   ]
  },
  {
   "cell_type": "code",
   "execution_count": 87,
   "metadata": {
    "execution": {
     "iopub.execute_input": "2025-02-04T12:08:26.638091Z",
     "iopub.status.busy": "2025-02-04T12:08:26.637759Z",
     "iopub.status.idle": "2025-02-04T12:08:26.652774Z",
     "shell.execute_reply": "2025-02-04T12:08:26.651053Z",
     "shell.execute_reply.started": "2025-02-04T12:08:26.638065Z"
    }
   },
   "outputs": [
    {
     "name": "stdout",
     "output_type": "stream",
     "text": [
      "<class 'pandas.core.frame.DataFrame'>\n",
      "DatetimeIndex: 244 entries, 2023-02-07 to 2023-05-04\n",
      "Data columns (total 27 columns):\n",
      " #   Column           Non-Null Count  Dtype  \n",
      "---  ------           --------------  -----  \n",
      " 0   Ticker           244 non-null    object \n",
      " 1   Open             244 non-null    float64\n",
      " 2   High             244 non-null    float64\n",
      " 3   Low              244 non-null    float64\n",
      " 4   Close            244 non-null    float64\n",
      " 5   Adj Close        244 non-null    float64\n",
      " 6   Volume           244 non-null    float64\n",
      " 7   Weekday          244 non-null    float64\n",
      " 8   is_weekend       244 non-null    float64\n",
      " 9   Quarter          244 non-null    float64\n",
      " 10  Day_sin          244 non-null    float64\n",
      " 11  Day_cos          244 non-null    float64\n",
      " 12  Month_sin        244 non-null    float64\n",
      " 13  Month_cos        244 non-null    float64\n",
      " 14  Day_of_Year_sin  244 non-null    float64\n",
      " 15  Day_of_Year_cos  244 non-null    float64\n",
      " 16  Target           244 non-null    float64\n",
      " 17  Close_Adj_Diff   244 non-null    float64\n",
      " 18  Daily_Return     244 non-null    float64\n",
      " 19  MA_5             244 non-null    float64\n",
      " 20  MA_10            244 non-null    float64\n",
      " 21  Volatilite       244 non-null    float64\n",
      " 22  RSI              244 non-null    float64\n",
      " 23  MACD             244 non-null    float64\n",
      " 24  MACD_Signal      244 non-null    float64\n",
      " 25  BB_Upper         244 non-null    float64\n",
      " 26  BB_Lower         244 non-null    float64\n",
      "dtypes: float64(26), object(1)\n",
      "memory usage: 53.4+ KB\n"
     ]
    }
   ],
   "source": [
    "df.info()"
   ]
  },
  {
   "cell_type": "code",
   "execution_count": 88,
   "metadata": {
    "execution": {
     "iopub.execute_input": "2025-02-04T12:08:34.697436Z",
     "iopub.status.busy": "2025-02-04T12:08:34.696975Z",
     "iopub.status.idle": "2025-02-04T12:08:34.707982Z",
     "shell.execute_reply": "2025-02-04T12:08:34.706907Z",
     "shell.execute_reply.started": "2025-02-04T12:08:34.697399Z"
    }
   },
   "outputs": [],
   "source": [
    "df = pd.get_dummies(df,columns=[\"Ticker\"],drop_first=True,dtype=int)"
   ]
  },
  {
   "cell_type": "code",
   "execution_count": 89,
   "metadata": {
    "execution": {
     "iopub.execute_input": "2025-02-04T12:08:36.476906Z",
     "iopub.status.busy": "2025-02-04T12:08:36.476181Z",
     "iopub.status.idle": "2025-02-04T12:08:36.492901Z",
     "shell.execute_reply": "2025-02-04T12:08:36.491756Z",
     "shell.execute_reply.started": "2025-02-04T12:08:36.476843Z"
    }
   },
   "outputs": [
    {
     "name": "stdout",
     "output_type": "stream",
     "text": [
      "<class 'pandas.core.frame.DataFrame'>\n",
      "DatetimeIndex: 244 entries, 2023-02-07 to 2023-05-04\n",
      "Data columns (total 29 columns):\n",
      " #   Column           Non-Null Count  Dtype  \n",
      "---  ------           --------------  -----  \n",
      " 0   Open             244 non-null    float64\n",
      " 1   High             244 non-null    float64\n",
      " 2   Low              244 non-null    float64\n",
      " 3   Close            244 non-null    float64\n",
      " 4   Adj Close        244 non-null    float64\n",
      " 5   Volume           244 non-null    float64\n",
      " 6   Weekday          244 non-null    float64\n",
      " 7   is_weekend       244 non-null    float64\n",
      " 8   Quarter          244 non-null    float64\n",
      " 9   Day_sin          244 non-null    float64\n",
      " 10  Day_cos          244 non-null    float64\n",
      " 11  Month_sin        244 non-null    float64\n",
      " 12  Month_cos        244 non-null    float64\n",
      " 13  Day_of_Year_sin  244 non-null    float64\n",
      " 14  Day_of_Year_cos  244 non-null    float64\n",
      " 15  Target           244 non-null    float64\n",
      " 16  Close_Adj_Diff   244 non-null    float64\n",
      " 17  Daily_Return     244 non-null    float64\n",
      " 18  MA_5             244 non-null    float64\n",
      " 19  MA_10            244 non-null    float64\n",
      " 20  Volatilite       244 non-null    float64\n",
      " 21  RSI              244 non-null    float64\n",
      " 22  MACD             244 non-null    float64\n",
      " 23  MACD_Signal      244 non-null    float64\n",
      " 24  BB_Upper         244 non-null    float64\n",
      " 25  BB_Lower         244 non-null    float64\n",
      " 26  Ticker_GOOG      244 non-null    int64  \n",
      " 27  Ticker_MSFT      244 non-null    int64  \n",
      " 28  Ticker_NFLX      244 non-null    int64  \n",
      "dtypes: float64(26), int64(3)\n",
      "memory usage: 57.2 KB\n"
     ]
    }
   ],
   "source": [
    "df.info()"
   ]
  },
  {
   "cell_type": "code",
   "execution_count": null,
   "metadata": {
    "execution": {
     "iopub.execute_input": "2025-02-04T12:10:59.789865Z",
     "iopub.status.busy": "2025-02-04T12:10:59.789467Z"
    }
   },
   "outputs": [
    {
     "name": "stderr",
     "output_type": "stream",
     "text": [
      "/usr/local/lib/python3.10/dist-packages/matplotlib/colors.py:721: RuntimeWarning: invalid value encountered in less\n",
      "  xa[xa < 0] = -1\n"
     ]
    }
   ],
   "source": [
    "plt.figure(figsize=(12, 8))\n",
    "sns.heatmap(df.corr(), annot=True, cmap='coolwarm', fmt=\".2f\", linewidths=0.5)\n",
    "plt.title(\"Feature Korelasyon Matrisi\")\n",
    "plt.show()"
   ]
  },
  {
   "cell_type": "code",
   "execution_count": 95,
   "metadata": {
    "execution": {
     "iopub.execute_input": "2025-02-04T12:11:46.533280Z",
     "iopub.status.busy": "2025-02-04T12:11:46.532881Z",
     "iopub.status.idle": "2025-02-04T12:11:46.570297Z",
     "shell.execute_reply": "2025-02-04T12:11:46.568357Z",
     "shell.execute_reply.started": "2025-02-04T12:11:46.533252Z"
    }
   },
   "outputs": [
    {
     "name": "stdout",
     "output_type": "stream",
     "text": [
      "                     Open      High       Low     Close  Adj Close  Volume  \\\n",
      "Open             1.000000  0.999624  0.999646  0.999170   0.999167     NaN   \n",
      "High             0.999624  1.000000  0.999652  0.999642   0.999638     NaN   \n",
      "Low              0.999646  0.999652  1.000000  0.999659   0.999657     NaN   \n",
      "Close            0.999170  0.999642  0.999659  1.000000   0.999999     NaN   \n",
      "Adj Close        0.999167  0.999638  0.999657  0.999999   1.000000     NaN   \n",
      "Volume                NaN       NaN       NaN       NaN        NaN     1.0   \n",
      "Weekday               NaN       NaN       NaN       NaN        NaN     NaN   \n",
      "is_weekend            NaN       NaN       NaN       NaN        NaN     NaN   \n",
      "Quarter               NaN       NaN       NaN       NaN        NaN     NaN   \n",
      "Day_sin               NaN       NaN       NaN       NaN        NaN     NaN   \n",
      "Day_cos               NaN       NaN       NaN       NaN        NaN     NaN   \n",
      "Month_sin             NaN       NaN       NaN       NaN        NaN     NaN   \n",
      "Month_cos             NaN       NaN       NaN       NaN        NaN     NaN   \n",
      "Day_of_Year_sin       NaN       NaN       NaN       NaN        NaN     NaN   \n",
      "Day_of_Year_cos       NaN       NaN       NaN       NaN        NaN     NaN   \n",
      "Target           0.997948  0.998525  0.998410  0.998728   0.998728     NaN   \n",
      "Close_Adj_Diff        NaN       NaN       NaN       NaN        NaN     NaN   \n",
      "Daily_Return          NaN       NaN       NaN       NaN        NaN     NaN   \n",
      "MA_5             0.980705  0.980476  0.980575  0.980574   0.980714     NaN   \n",
      "MA_10            0.958128  0.957998  0.957500  0.957632   0.957817     NaN   \n",
      "Volatilite            NaN       NaN       NaN       NaN        NaN     NaN   \n",
      "RSI                   NaN       NaN       NaN       NaN        NaN     NaN   \n",
      "MACD                  NaN       NaN       NaN       NaN        NaN     NaN   \n",
      "MACD_Signal           NaN       NaN       NaN       NaN        NaN     NaN   \n",
      "BB_Upper              NaN       NaN       NaN       NaN        NaN     NaN   \n",
      "BB_Lower              NaN       NaN       NaN       NaN        NaN     NaN   \n",
      "Ticker_GOOG           NaN       NaN       NaN       NaN        NaN     NaN   \n",
      "Ticker_MSFT           NaN       NaN       NaN       NaN        NaN     NaN   \n",
      "Ticker_NFLX           NaN       NaN       NaN       NaN        NaN     NaN   \n",
      "\n",
      "                 Weekday  is_weekend  Quarter  Day_sin  ...     MA_10  \\\n",
      "Open                 NaN         NaN      NaN      NaN  ...  0.958128   \n",
      "High                 NaN         NaN      NaN      NaN  ...  0.957998   \n",
      "Low                  NaN         NaN      NaN      NaN  ...  0.957500   \n",
      "Close                NaN         NaN      NaN      NaN  ...  0.957632   \n",
      "Adj Close            NaN         NaN      NaN      NaN  ...  0.957817   \n",
      "Volume               NaN         NaN      NaN      NaN  ...       NaN   \n",
      "Weekday              1.0         NaN      NaN      NaN  ...       NaN   \n",
      "is_weekend           NaN         NaN      NaN      NaN  ...       NaN   \n",
      "Quarter              NaN         NaN      1.0      NaN  ...       NaN   \n",
      "Day_sin              NaN         NaN      NaN      1.0  ...       NaN   \n",
      "Day_cos              NaN         NaN      NaN      NaN  ...       NaN   \n",
      "Month_sin            NaN         NaN      NaN      NaN  ...       NaN   \n",
      "Month_cos            NaN         NaN      NaN      NaN  ...       NaN   \n",
      "Day_of_Year_sin      NaN         NaN      NaN      NaN  ...       NaN   \n",
      "Day_of_Year_cos      NaN         NaN      NaN      NaN  ...       NaN   \n",
      "Target               NaN         NaN      NaN      NaN  ...  0.956661   \n",
      "Close_Adj_Diff       NaN         NaN      NaN      NaN  ...       NaN   \n",
      "Daily_Return         NaN         NaN      NaN      NaN  ...       NaN   \n",
      "MA_5                 NaN         NaN      NaN      NaN  ...  0.976236   \n",
      "MA_10                NaN         NaN      NaN      NaN  ...  1.000000   \n",
      "Volatilite           NaN         NaN      NaN      NaN  ...       NaN   \n",
      "RSI                  NaN         NaN      NaN      NaN  ...       NaN   \n",
      "MACD                 NaN         NaN      NaN      NaN  ...       NaN   \n",
      "MACD_Signal          NaN         NaN      NaN      NaN  ...       NaN   \n",
      "BB_Upper             NaN         NaN      NaN      NaN  ...  0.958616   \n",
      "BB_Lower             NaN         NaN      NaN      NaN  ...  0.955316   \n",
      "Ticker_GOOG          NaN         NaN      NaN      NaN  ...       NaN   \n",
      "Ticker_MSFT          NaN         NaN      NaN      NaN  ...       NaN   \n",
      "Ticker_NFLX          NaN         NaN      NaN      NaN  ...       NaN   \n",
      "\n",
      "                 Volatilite  RSI  MACD  MACD_Signal  BB_Upper  BB_Lower  \\\n",
      "Open                    NaN  NaN   NaN          NaN       NaN       NaN   \n",
      "High                    NaN  NaN   NaN          NaN       NaN       NaN   \n",
      "Low                     NaN  NaN   NaN          NaN       NaN       NaN   \n",
      "Close                   NaN  NaN   NaN          NaN       NaN       NaN   \n",
      "Adj Close               NaN  NaN   NaN          NaN       NaN       NaN   \n",
      "Volume                  NaN  NaN   NaN          NaN       NaN       NaN   \n",
      "Weekday                 NaN  NaN   NaN          NaN       NaN       NaN   \n",
      "is_weekend              NaN  NaN   NaN          NaN       NaN       NaN   \n",
      "Quarter                 NaN  NaN   NaN          NaN       NaN       NaN   \n",
      "Day_sin                 NaN  NaN   NaN          NaN       NaN       NaN   \n",
      "Day_cos                 NaN  NaN   NaN          NaN       NaN       NaN   \n",
      "Month_sin               NaN  NaN   NaN          NaN       NaN       NaN   \n",
      "Month_cos               NaN  NaN   NaN          NaN       NaN       NaN   \n",
      "Day_of_Year_sin         NaN  NaN   NaN          NaN       NaN       NaN   \n",
      "Day_of_Year_cos         NaN  NaN   NaN          NaN       NaN       NaN   \n",
      "Target                  NaN  NaN   NaN          NaN       NaN       NaN   \n",
      "Close_Adj_Diff          NaN  NaN   NaN          NaN       NaN       NaN   \n",
      "Daily_Return            NaN  NaN   NaN          NaN       NaN       NaN   \n",
      "MA_5                    NaN  NaN   NaN          NaN       NaN       NaN   \n",
      "MA_10                   NaN  NaN   NaN          NaN  0.958616  0.955316   \n",
      "Volatilite              1.0  NaN   NaN          NaN       NaN       NaN   \n",
      "RSI                     NaN  1.0   NaN          NaN       NaN       NaN   \n",
      "MACD                    NaN  NaN   1.0          NaN       NaN       NaN   \n",
      "MACD_Signal             NaN  NaN   NaN          1.0       NaN       NaN   \n",
      "BB_Upper                NaN  NaN   NaN          NaN  1.000000  0.990200   \n",
      "BB_Lower                NaN  NaN   NaN          NaN  0.990200  1.000000   \n",
      "Ticker_GOOG             NaN  NaN   NaN          NaN       NaN       NaN   \n",
      "Ticker_MSFT             NaN  NaN   NaN          NaN       NaN       NaN   \n",
      "Ticker_NFLX             NaN  NaN   NaN          NaN       NaN       NaN   \n",
      "\n",
      "                 Ticker_GOOG  Ticker_MSFT  Ticker_NFLX  \n",
      "Open                     NaN          NaN          NaN  \n",
      "High                     NaN          NaN          NaN  \n",
      "Low                      NaN          NaN          NaN  \n",
      "Close                    NaN          NaN          NaN  \n",
      "Adj Close                NaN          NaN          NaN  \n",
      "Volume                   NaN          NaN          NaN  \n",
      "Weekday                  NaN          NaN          NaN  \n",
      "is_weekend               NaN          NaN          NaN  \n",
      "Quarter                  NaN          NaN          NaN  \n",
      "Day_sin                  NaN          NaN          NaN  \n",
      "Day_cos                  NaN          NaN          NaN  \n",
      "Month_sin                NaN          NaN          NaN  \n",
      "Month_cos                NaN          NaN          NaN  \n",
      "Day_of_Year_sin          NaN          NaN          NaN  \n",
      "Day_of_Year_cos          NaN          NaN          NaN  \n",
      "Target                   NaN          NaN          NaN  \n",
      "Close_Adj_Diff           NaN          NaN          NaN  \n",
      "Daily_Return             NaN          NaN          NaN  \n",
      "MA_5                     NaN          NaN          NaN  \n",
      "MA_10                    NaN          NaN          NaN  \n",
      "Volatilite               NaN          NaN          NaN  \n",
      "RSI                      NaN          NaN          NaN  \n",
      "MACD                     NaN          NaN          NaN  \n",
      "MACD_Signal              NaN          NaN          NaN  \n",
      "BB_Upper                 NaN          NaN          NaN  \n",
      "BB_Lower                 NaN          NaN          NaN  \n",
      "Ticker_GOOG              1.0          NaN          NaN  \n",
      "Ticker_MSFT              NaN          1.0          NaN  \n",
      "Ticker_NFLX              NaN          NaN          1.0  \n",
      "\n",
      "[29 rows x 29 columns]\n"
     ]
    },
    {
     "name": "stderr",
     "output_type": "stream",
     "text": [
      "/usr/local/lib/python3.10/dist-packages/pandas/core/computation/expressions.py:73: RuntimeWarning: invalid value encountered in greater\n",
      "  return op(a, b)\n",
      "/usr/local/lib/python3.10/dist-packages/pandas/io/formats/format.py:1458: RuntimeWarning: invalid value encountered in greater\n",
      "  has_large_values = (abs_vals > 1e6).any()\n",
      "/usr/local/lib/python3.10/dist-packages/pandas/io/formats/format.py:1459: RuntimeWarning: invalid value encountered in less\n",
      "  has_small_values = ((abs_vals < 10 ** (-self.digits)) & (abs_vals > 0)).any()\n",
      "/usr/local/lib/python3.10/dist-packages/pandas/io/formats/format.py:1459: RuntimeWarning: invalid value encountered in greater\n",
      "  has_small_values = ((abs_vals < 10 ** (-self.digits)) & (abs_vals > 0)).any()\n"
     ]
    }
   ],
   "source": [
    "correlation_matrix = df.corr().abs()\n",
    "high_corr_vars = correlation_matrix[correlation_matrix > 0.95]\n",
    "print(high_corr_vars)"
   ]
  },
  {
   "cell_type": "code",
   "execution_count": 96,
   "metadata": {
    "execution": {
     "iopub.execute_input": "2025-02-04T12:12:00.333277Z",
     "iopub.status.busy": "2025-02-04T12:12:00.332878Z",
     "iopub.status.idle": "2025-02-04T12:12:01.163829Z",
     "shell.execute_reply": "2025-02-04T12:12:01.162522Z",
     "shell.execute_reply.started": "2025-02-04T12:12:00.333248Z"
    }
   },
   "outputs": [
    {
     "data": {
      "image/png": "[encoded data removed]",
      "text/plain": [
       "<Figure size 1000x600 with 1 Axes>"
      ]
     },
     "metadata": {},
     "output_type": "display_data"
    }
   ],
   "source": [
    "X = df.drop(columns=['Target'])  # Hedef değişkeni çıkarıyoruz\n",
    "y = df['Target']\n",
    "\n",
    "# Random Forest Modeli Eğitme\n",
    "rf = RandomForestRegressor(n_estimators=100, random_state=42)\n",
    "rf.fit(X, y)\n",
    "\n",
    "# Feature Importance Çizimi\n",
    "importances = pd.Series(rf.feature_importances_, index=X.columns)\n",
    "importances.sort_values().plot(kind='barh', figsize=(10,6), title=\"Feature Importance\")\n",
    "plt.show()\n"
   ]
  },
  {
   "cell_type": "code",
   "execution_count": 97,
   "metadata": {
    "execution": {
     "iopub.execute_input": "2025-02-04T12:12:11.008883Z",
     "iopub.status.busy": "2025-02-04T12:12:11.008519Z",
     "iopub.status.idle": "2025-02-04T12:12:11.018079Z",
     "shell.execute_reply": "2025-02-04T12:12:11.016585Z",
     "shell.execute_reply.started": "2025-02-04T12:12:11.008856Z"
    }
   },
   "outputs": [],
   "source": [
    "X_train,X_test,y_train,y_test = train_test_split(X,y,test_size=0.2,random_state=42)"
   ]
  },
  {
   "cell_type": "code",
   "execution_count": 98,
   "metadata": {
    "execution": {
     "iopub.execute_input": "2025-02-04T12:12:13.258547Z",
     "iopub.status.busy": "2025-02-04T12:12:13.258078Z",
     "iopub.status.idle": "2025-02-04T12:12:13.264322Z",
     "shell.execute_reply": "2025-02-04T12:12:13.262567Z",
     "shell.execute_reply.started": "2025-02-04T12:12:13.258513Z"
    }
   },
   "outputs": [],
   "source": [
    "scaler = StandardScaler()"
   ]
  },
  {
   "cell_type": "code",
   "execution_count": 99,
   "metadata": {
    "execution": {
     "iopub.execute_input": "2025-02-04T12:12:16.253622Z",
     "iopub.status.busy": "2025-02-04T12:12:16.253209Z",
     "iopub.status.idle": "2025-02-04T12:12:16.266652Z",
     "shell.execute_reply": "2025-02-04T12:12:16.265499Z",
     "shell.execute_reply.started": "2025-02-04T12:12:16.253593Z"
    }
   },
   "outputs": [],
   "source": [
    "X_train_scaled = scaler.fit_transform(X_train)\n",
    "X_test_scaled = scaler.transform(X_test)"
   ]
  },
  {
   "cell_type": "code",
   "execution_count": 115,
   "metadata": {
    "execution": {
     "iopub.execute_input": "2025-02-04T12:16:55.832975Z",
     "iopub.status.busy": "2025-02-04T12:16:55.832584Z",
     "iopub.status.idle": "2025-02-04T12:16:55.840113Z",
     "shell.execute_reply": "2025-02-04T12:16:55.837575Z",
     "shell.execute_reply.started": "2025-02-04T12:16:55.832943Z"
    }
   },
   "outputs": [],
   "source": [
    "X_train = pd.DataFrame(X_train_scaled,columns=X.columns, index=X_train.index)\n",
    "X_test = pd.DataFrame(X_test_scaled,columns=X.columns, index=X_test.index)"
   ]
  },
  {
   "cell_type": "code",
   "execution_count": 122,
   "metadata": {
    "execution": {
     "iopub.execute_input": "2025-02-04T12:21:31.869817Z",
     "iopub.status.busy": "2025-02-04T12:21:31.869440Z",
     "iopub.status.idle": "2025-02-04T12:21:31.876488Z",
     "shell.execute_reply": "2025-02-04T12:21:31.875284Z",
     "shell.execute_reply.started": "2025-02-04T12:21:31.869790Z"
    }
   },
   "outputs": [],
   "source": [
    "def evaluate_model(model, X_train, X_test, y_train, y_test, model_name):\n",
    "    \"\"\"\n",
    "    Verilen modeli eğitir, test seti üzerinde tahmin yapar ve performans metriklerini döndürür.\n",
    "    \n",
    "    Parametreler:\n",
    "    model : Makine öğrenmesi modeli (örneğin: LinearRegression(), XGBRegressor())\n",
    "    X_train, X_test : Eğitim ve test özellikleri\n",
    "    y_train, y_test : Eğitim ve test hedef değişkenleri\n",
    "    model_name : Modelin ismi (String olarak)\n",
    "    \n",
    "    Çıktı:\n",
    "    Modelin MAE, RMSE ve R² skorlarını yazdırır.\n",
    "    \"\"\"\n",
    "\n",
    "    model.fit(X_train, y_train)  # Modeli eğit\n",
    "    y_pred = model.predict(X_test)  # Modelin tahminini değişkene ata\n",
    "\n",
    "    mae = mean_absolute_error(y_test, y_pred)\n",
    "    rmse = mean_squared_error(y_test, y_pred, squared=False)  # RMSE için squared=False olmalı\n",
    "    r2 = r2_score(y_test, y_pred)\n",
    "\n",
    "    print(f\"📌 Model Name: {model_name}\" )\n",
    "    print(f\"MAE: {mae}\")\n",
    "    print(f\"RMSE: {rmse}\")\n",
    "    print(f\"R2: {r2}\")\n",
    "    print(\"--------\")\n",
    "\n"
   ]
  },
  {
   "cell_type": "code",
   "execution_count": 125,
   "metadata": {
    "execution": {
     "iopub.execute_input": "2025-02-04T12:21:56.885953Z",
     "iopub.status.busy": "2025-02-04T12:21:56.885607Z",
     "iopub.status.idle": "2025-02-04T12:21:57.156202Z",
     "shell.execute_reply": "2025-02-04T12:21:57.154587Z",
     "shell.execute_reply.started": "2025-02-04T12:21:56.885925Z"
    }
   },
   "outputs": [
    {
     "name": "stdout",
     "output_type": "stream",
     "text": [
      "📌 Model Name: Linear Regression\n",
      "MAE: 3.2788290568448537\n",
      "RMSE: 4.812013862884145\n",
      "R2: 0.9971831135373146\n",
      "--------\n",
      "📌 Model Name: XGBoost\n",
      "MAE: 6.057924076002472\n",
      "RMSE: 13.997438314659945\n",
      "R2: 0.9761651332903712\n",
      "--------\n",
      "[LightGBM] [Warning] Found whitespace in feature_names, replace with underlines\n",
      "[LightGBM] [Info] Auto-choosing col-wise multi-threading, the overhead of testing was 0.000167 seconds.\n",
      "You can set `force_col_wise=true` to remove the overhead.\n",
      "[LightGBM] [Info] Total Bins 1210\n",
      "[LightGBM] [Info] Number of data points in the train set: 195, number of used features: 26\n",
      "[LightGBM] [Info] Start training from score 219.273837\n",
      "[LightGBM] [Warning] No further splits with positive gain, best gain: -inf\n",
      "[LightGBM] [Warning] No further splits with positive gain, best gain: -inf\n",
      "[LightGBM] [Warning] No further splits with positive gain, best gain: -inf\n",
      "[LightGBM] [Warning] No further splits with positive gain, best gain: -inf\n",
      "[LightGBM] [Warning] No further splits with positive gain, best gain: -inf\n",
      "[LightGBM] [Warning] No further splits with positive gain, best gain: -inf\n",
      "[LightGBM] [Warning] No further splits with positive gain, best gain: -inf\n",
      "[LightGBM] [Warning] No further splits with positive gain, best gain: -inf\n",
      "[LightGBM] [Warning] No further splits with positive gain, best gain: -inf\n",
      "[LightGBM] [Warning] No further splits with positive gain, best gain: -inf\n",
      "[LightGBM] [Warning] No further splits with positive gain, best gain: -inf\n",
      "[LightGBM] [Warning] No further splits with positive gain, best gain: -inf\n",
      "[LightGBM] [Warning] No further splits with positive gain, best gain: -inf\n",
      "[LightGBM] [Warning] No further splits with positive gain, best gain: -inf\n",
      "[LightGBM] [Warning] No further splits with positive gain, best gain: -inf\n",
      "[LightGBM] [Warning] No further splits with positive gain, best gain: -inf\n",
      "[LightGBM] [Warning] No further splits with positive gain, best gain: -inf\n",
      "[LightGBM] [Warning] No further splits with positive gain, best gain: -inf\n",
      "[LightGBM] [Warning] No further splits with positive gain, best gain: -inf\n",
      "[LightGBM] [Warning] No further splits with positive gain, best gain: -inf\n",
      "[LightGBM] [Warning] No further splits with positive gain, best gain: -inf\n",
      "[LightGBM] [Warning] No further splits with positive gain, best gain: -inf\n",
      "[LightGBM] [Warning] No further splits with positive gain, best gain: -inf\n",
      "[LightGBM] [Warning] No further splits with positive gain, best gain: -inf\n",
      "[LightGBM] [Warning] No further splits with positive gain, best gain: -inf\n",
      "[LightGBM] [Warning] No further splits with positive gain, best gain: -inf\n",
      "[LightGBM] [Warning] No further splits with positive gain, best gain: -inf\n",
      "[LightGBM] [Warning] No further splits with positive gain, best gain: -inf\n",
      "[LightGBM] [Warning] No further splits with positive gain, best gain: -inf\n",
      "[LightGBM] [Warning] No further splits with positive gain, best gain: -inf\n",
      "[LightGBM] [Warning] No further splits with positive gain, best gain: -inf\n",
      "[LightGBM] [Warning] No further splits with positive gain, best gain: -inf\n",
      "[LightGBM] [Warning] No further splits with positive gain, best gain: -inf\n",
      "[LightGBM] [Warning] No further splits with positive gain, best gain: -inf\n",
      "[LightGBM] [Warning] No further splits with positive gain, best gain: -inf\n",
      "[LightGBM] [Warning] No further splits with positive gain, best gain: -inf\n",
      "[LightGBM] [Warning] No further splits with positive gain, best gain: -inf\n",
      "[LightGBM] [Warning] No further splits with positive gain, best gain: -inf\n",
      "[LightGBM] [Warning] No further splits with positive gain, best gain: -inf\n",
      "[LightGBM] [Warning] No further splits with positive gain, best gain: -inf\n",
      "[LightGBM] [Warning] No further splits with positive gain, best gain: -inf\n",
      "[LightGBM] [Warning] No further splits with positive gain, best gain: -inf\n",
      "[LightGBM] [Warning] No further splits with positive gain, best gain: -inf\n",
      "[LightGBM] [Warning] No further splits with positive gain, best gain: -inf\n",
      "[LightGBM] [Warning] No further splits with positive gain, best gain: -inf\n",
      "[LightGBM] [Warning] No further splits with positive gain, best gain: -inf\n",
      "[LightGBM] [Warning] No further splits with positive gain, best gain: -inf\n",
      "[LightGBM] [Warning] No further splits with positive gain, best gain: -inf\n",
      "[LightGBM] [Warning] No further splits with positive gain, best gain: -inf\n",
      "[LightGBM] [Warning] No further splits with positive gain, best gain: -inf\n",
      "[LightGBM] [Warning] No further splits with positive gain, best gain: -inf\n",
      "[LightGBM] [Warning] No further splits with positive gain, best gain: -inf\n",
      "[LightGBM] [Warning] No further splits with positive gain, best gain: -inf\n",
      "[LightGBM] [Warning] No further splits with positive gain, best gain: -inf\n",
      "[LightGBM] [Warning] No further splits with positive gain, best gain: -inf\n",
      "[LightGBM] [Warning] No further splits with positive gain, best gain: -inf\n",
      "[LightGBM] [Warning] No further splits with positive gain, best gain: -inf\n",
      "[LightGBM] [Warning] No further splits with positive gain, best gain: -inf\n",
      "[LightGBM] [Warning] No further splits with positive gain, best gain: -inf\n",
      "[LightGBM] [Warning] No further splits with positive gain, best gain: -inf\n",
      "[LightGBM] [Warning] No further splits with positive gain, best gain: -inf\n",
      "[LightGBM] [Warning] No further splits with positive gain, best gain: -inf\n",
      "[LightGBM] [Warning] No further splits with positive gain, best gain: -inf\n",
      "[LightGBM] [Warning] No further splits with positive gain, best gain: -inf\n",
      "[LightGBM] [Warning] No further splits with positive gain, best gain: -inf\n",
      "[LightGBM] [Warning] No further splits with positive gain, best gain: -inf\n",
      "[LightGBM] [Warning] No further splits with positive gain, best gain: -inf\n",
      "[LightGBM] [Warning] No further splits with positive gain, best gain: -inf\n",
      "[LightGBM] [Warning] No further splits with positive gain, best gain: -inf\n",
      "[LightGBM] [Warning] No further splits with positive gain, best gain: -inf\n",
      "[LightGBM] [Warning] No further splits with positive gain, best gain: -inf\n",
      "[LightGBM] [Warning] No further splits with positive gain, best gain: -inf\n",
      "[LightGBM] [Warning] No further splits with positive gain, best gain: -inf\n",
      "[LightGBM] [Warning] No further splits with positive gain, best gain: -inf\n",
      "[LightGBM] [Warning] No further splits with positive gain, best gain: -inf\n",
      "[LightGBM] [Warning] No further splits with positive gain, best gain: -inf\n",
      "[LightGBM] [Warning] No further splits with positive gain, best gain: -inf\n",
      "[LightGBM] [Warning] No further splits with positive gain, best gain: -inf\n",
      "[LightGBM] [Warning] No further splits with positive gain, best gain: -inf\n",
      "[LightGBM] [Warning] No further splits with positive gain, best gain: -inf\n",
      "[LightGBM] [Warning] No further splits with positive gain, best gain: -inf\n",
      "[LightGBM] [Warning] No further splits with positive gain, best gain: -inf\n",
      "[LightGBM] [Warning] No further splits with positive gain, best gain: -inf\n",
      "[LightGBM] [Warning] No further splits with positive gain, best gain: -inf\n",
      "[LightGBM] [Warning] No further splits with positive gain, best gain: -inf\n",
      "[LightGBM] [Warning] No further splits with positive gain, best gain: -inf\n",
      "[LightGBM] [Warning] No further splits with positive gain, best gain: -inf\n",
      "[LightGBM] [Warning] No further splits with positive gain, best gain: -inf\n",
      "[LightGBM] [Warning] No further splits with positive gain, best gain: -inf\n",
      "[LightGBM] [Warning] No further splits with positive gain, best gain: -inf\n",
      "[LightGBM] [Warning] No further splits with positive gain, best gain: -inf\n",
      "[LightGBM] [Warning] No further splits with positive gain, best gain: -inf\n",
      "[LightGBM] [Warning] No further splits with positive gain, best gain: -inf\n",
      "[LightGBM] [Warning] No further splits with positive gain, best gain: -inf\n",
      "[LightGBM] [Warning] No further splits with positive gain, best gain: -inf\n",
      "[LightGBM] [Warning] No further splits with positive gain, best gain: -inf\n",
      "[LightGBM] [Warning] No further splits with positive gain, best gain: -inf\n",
      "[LightGBM] [Warning] No further splits with positive gain, best gain: -inf\n",
      "[LightGBM] [Warning] No further splits with positive gain, best gain: -inf\n",
      "[LightGBM] [Warning] No further splits with positive gain, best gain: -inf\n",
      "📌 Model Name: LightGBM\n",
      "MAE: 3.9260480368126998\n",
      "RMSE: 5.709122953687538\n",
      "R2: 0.9960348977104848\n",
      "--------\n",
      "📌 Model Name: Decision Tree\n",
      "MAE: 3.9380622396663743\n",
      "RMSE: 5.996618254404984\n",
      "R2: 0.9956255001299197\n",
      "--------\n"
     ]
    }
   ],
   "source": [
    "models = {\n",
    "    \"Linear Regression\": LinearRegression(),\n",
    "    \"XGBoost\": XGBRegressor(objective='reg:squarederror', n_estimators=100, random_state=42),\n",
    "    \"LightGBM\": LGBMRegressor(n_estimators=100, random_state=42),\n",
    "    \"Decision Tree\": DecisionTreeRegressor(random_state=42)\n",
    "}\n",
    "\n",
    "for model_name, model in models.items():\n",
    "    evaluate_model(model, X_train, X_test, y_train, y_test, model_name)"
   ]
  },
  {
   "cell_type": "code",
   "execution_count": 126,
   "metadata": {
    "execution": {
     "iopub.execute_input": "2025-02-04T12:22:09.445267Z",
     "iopub.status.busy": "2025-02-04T12:22:09.444762Z",
     "iopub.status.idle": "2025-02-04T12:22:09.453389Z",
     "shell.execute_reply": "2025-02-04T12:22:09.451908Z",
     "shell.execute_reply.started": "2025-02-04T12:22:09.445213Z"
    }
   },
   "outputs": [],
   "source": [
    "def check_overfitting(model, X_train, X_test, y_train, y_test, model_name):\n",
    "    \"\"\"\n",
    "    Modelin eğitim ve test hatalarını karşılaştırarak overfit olup olmadığını kontrol eder.\n",
    "    \"\"\"\n",
    "    y_train_pred = model.predict(X_train)\n",
    "    \n",
    "    y_test_pred = model.predict(X_test)\n",
    "    \n",
    "    train_mae = mean_absolute_error(y_train, y_train_pred)\n",
    "    train_rmse = mean_squared_error(y_train, y_train_pred, squared=False)\n",
    "    train_r2 = r2_score(y_train, y_train_pred)\n",
    "    \n",
    "    test_mae = mean_absolute_error(y_test, y_test_pred)\n",
    "    test_rmse = mean_squared_error(y_test, y_test_pred, squared=False)\n",
    "    test_r2 = r2_score(y_test, y_test_pred)\n",
    "    \n",
    "    print(f\"📌 {model_name} - Overfitting Kontrolü:\")\n",
    "    print(f\"📌 Eğitim Seti -> MAE: {train_mae}, RMSE: {train_rmse}, R²: {train_r2}\")\n",
    "    print(f\"📌 Test Seti   -> MAE: {test_mae}, RMSE: {test_rmse}, R²: {test_r2}\\n\")"
   ]
  },
  {
   "cell_type": "code",
   "execution_count": 127,
   "metadata": {
    "execution": {
     "iopub.execute_input": "2025-02-04T12:22:16.794987Z",
     "iopub.status.busy": "2025-02-04T12:22:16.794650Z",
     "iopub.status.idle": "2025-02-04T12:22:16.837404Z",
     "shell.execute_reply": "2025-02-04T12:22:16.835381Z",
     "shell.execute_reply.started": "2025-02-04T12:22:16.794961Z"
    }
   },
   "outputs": [
    {
     "name": "stdout",
     "output_type": "stream",
     "text": [
      "📌 Linear Regression - Overfitting Kontrolü:\n",
      "📌 Eğitim Seti -> MAE: 2.8821239499472946, RMSE: 4.170497325727676, R²: 0.9978902512470369\n",
      "📌 Test Seti   -> MAE: 3.2788290568448537, RMSE: 4.812013862884145, R²: 0.9971831135373146\n",
      "\n",
      "📌 XGBoost - Overfitting Kontrolü:\n",
      "📌 Eğitim Seti -> MAE: 0.001420906262519449, RMSE: 0.001965782146181642, R²: 0.9999999995312667\n",
      "📌 Test Seti   -> MAE: 6.057924076002472, RMSE: 13.997438314659945, R²: 0.9761651332903712\n",
      "\n",
      "📌 LightGBM - Overfitting Kontrolü:\n",
      "📌 Eğitim Seti -> MAE: 1.4094639175809698, RMSE: 2.316792034468497, R²: 0.9993489278066703\n",
      "📌 Test Seti   -> MAE: 3.9260480368126998, RMSE: 5.709122953687538, R²: 0.9960348977104848\n",
      "\n",
      "📌 Decision Tree - Overfitting Kontrolü:\n",
      "📌 Eğitim Seti -> MAE: 0.0, RMSE: 0.0, R²: 1.0\n",
      "📌 Test Seti   -> MAE: 3.9380622396663743, RMSE: 5.996618254404984, R²: 0.9956255001299197\n",
      "\n"
     ]
    }
   ],
   "source": [
    "for model_name, model in models.items():\n",
    "    check_overfitting(model, X_train, X_test, y_train, y_test, model_name)"
   ]
  },
  {
   "cell_type": "markdown",
   "metadata": {},
   "source": [
    "Best Model:Linear Regression"
   ]
  },
  {
   "cell_type": "code",
   "execution_count": 128,
   "metadata": {
    "execution": {
     "iopub.execute_input": "2025-02-04T12:24:30.091212Z",
     "iopub.status.busy": "2025-02-04T12:24:30.090819Z",
     "iopub.status.idle": "2025-02-04T12:24:30.111686Z",
     "shell.execute_reply": "2025-02-04T12:24:30.110312Z",
     "shell.execute_reply.started": "2025-02-04T12:24:30.091184Z"
    }
   },
   "outputs": [
    {
     "data": {
      "text/html": [
       "<style>#sk-container-id-1 {color: black;background-color: white;}#sk-container-id-1 pre{padding: 0;}#sk-container-id-1 div.sk-toggleable {background-color: white;}#sk-container-id-1 label.sk-toggleable__label {cursor: pointer;display: block;width: 100%;margin-bottom: 0;padding: 0.3em;box-sizing: border-box;text-align: center;}#sk-container-id-1 label.sk-toggleable__label-arrow:before {content: \"▸\";float: left;margin-right: 0.25em;color: #696969;}#sk-container-id-1 label.sk-toggleable__label-arrow:hover:before {color: black;}#sk-container-id-1 div.sk-estimator:hover label.sk-toggleable__label-arrow:before {color: black;}#sk-container-id-1 div.sk-toggleable__content {max-height: 0;max-width: 0;overflow: hidden;text-align: left;background-color: #f0f8ff;}#sk-container-id-1 div.sk-toggleable__content pre {margin: 0.2em;color: black;border-radius: 0.25em;background-color: #f0f8ff;}#sk-container-id-1 input.sk-toggleable__control:checked~div.sk-toggleable__content {max-height: 200px;max-width: 100%;overflow: auto;}#sk-container-id-1 input.sk-toggleable__control:checked~label.sk-toggleable__label-arrow:before {content: \"▾\";}#sk-container-id-1 div.sk-estimator input.sk-toggleable__control:checked~label.sk-toggleable__label {background-color: #d4ebff;}#sk-container-id-1 div.sk-label input.sk-toggleable__control:checked~label.sk-toggleable__label {background-color: #d4ebff;}#sk-container-id-1 input.sk-hidden--visually {border: 0;clip: rect(1px 1px 1px 1px);clip: rect(1px, 1px, 1px, 1px);height: 1px;margin: -1px;overflow: hidden;padding: 0;position: absolute;width: 1px;}#sk-container-id-1 div.sk-estimator {font-family: monospace;background-color: #f0f8ff;border: 1px dotted black;border-radius: 0.25em;box-sizing: border-box;margin-bottom: 0.5em;}#sk-container-id-1 div.sk-estimator:hover {background-color: #d4ebff;}#sk-container-id-1 div.sk-parallel-item::after {content: \"\";width: 100%;border-bottom: 1px solid gray;flex-grow: 1;}#sk-container-id-1 div.sk-label:hover label.sk-toggleable__label {background-color: #d4ebff;}#sk-container-id-1 div.sk-serial::before {content: \"\";position: absolute;border-left: 1px solid gray;box-sizing: border-box;top: 0;bottom: 0;left: 50%;z-index: 0;}#sk-container-id-1 div.sk-serial {display: flex;flex-direction: column;align-items: center;background-color: white;padding-right: 0.2em;padding-left: 0.2em;position: relative;}#sk-container-id-1 div.sk-item {position: relative;z-index: 1;}#sk-container-id-1 div.sk-parallel {display: flex;align-items: stretch;justify-content: center;background-color: white;position: relative;}#sk-container-id-1 div.sk-item::before, #sk-container-id-1 div.sk-parallel-item::before {content: \"\";position: absolute;border-left: 1px solid gray;box-sizing: border-box;top: 0;bottom: 0;left: 50%;z-index: -1;}#sk-container-id-1 div.sk-parallel-item {display: flex;flex-direction: column;z-index: 1;position: relative;background-color: white;}#sk-container-id-1 div.sk-parallel-item:first-child::after {align-self: flex-end;width: 50%;}#sk-container-id-1 div.sk-parallel-item:last-child::after {align-self: flex-start;width: 50%;}#sk-container-id-1 div.sk-parallel-item:only-child::after {width: 0;}#sk-container-id-1 div.sk-dashed-wrapped {border: 1px dashed gray;margin: 0 0.4em 0.5em 0.4em;box-sizing: border-box;padding-bottom: 0.4em;background-color: white;}#sk-container-id-1 div.sk-label label {font-family: monospace;font-weight: bold;display: inline-block;line-height: 1.2em;}#sk-container-id-1 div.sk-label-container {text-align: center;}#sk-container-id-1 div.sk-container {/* jupyter's `normalize.less` sets `[hidden] { display: none; }` but bootstrap.min.css set `[hidden] { display: none !important; }` so we also need the `!important` here to be able to override the default hidden behavior on the sphinx rendered scikit-learn.org. See: https://github.com/scikit-learn/scikit-learn/issues/21755 */display: inline-block !important;position: relative;}#sk-container-id-1 div.sk-text-repr-fallback {display: none;}</style><div id=\"sk-container-id-1\" class=\"sk-top-container\"><div class=\"sk-text-repr-fallback\"><pre>LinearRegression()</pre><b>In a Jupyter environment, please rerun this cell to show the HTML representation or trust the notebook. <br />On GitHub, the HTML representation is unable to render, please try loading this page with nbviewer.org.</b></div><div class=\"sk-container\" hidden><div class=\"sk-item\"><div class=\"sk-estimator sk-toggleable\"><input class=\"sk-toggleable__control sk-hidden--visually\" id=\"sk-estimator-id-1\" type=\"checkbox\" checked><label for=\"sk-estimator-id-1\" class=\"sk-toggleable__label sk-toggleable__label-arrow\">LinearRegression</label><div class=\"sk-toggleable__content\"><pre>LinearRegression()</pre></div></div></div></div></div>"
      ],
      "text/plain": [
       "LinearRegression()"
      ]
     },
     "execution_count": 128,
     "metadata": {},
     "output_type": "execute_result"
    }
   ],
   "source": [
    "final_model = LinearRegression()\n",
    "final_model.fit(X_train, y_train)"
   ]
  },
  {
   "cell_type": "code",
   "execution_count": 130,
   "metadata": {
    "execution": {
     "iopub.execute_input": "2025-02-04T12:25:27.891815Z",
     "iopub.status.busy": "2025-02-04T12:25:27.891090Z",
     "iopub.status.idle": "2025-02-04T12:25:27.901469Z",
     "shell.execute_reply": "2025-02-04T12:25:27.899525Z",
     "shell.execute_reply.started": "2025-02-04T12:25:27.891754Z"
    }
   },
   "outputs": [],
   "source": [
    "# Modelin katsayılarını alalım\n",
    "coef_df = pd.DataFrame({\"Feature\": X_train.columns, \"Coefficient\": final_model.coef_})\n",
    "coef_df = coef_df.sort_values(by=\"Coefficient\", ascending=False)\n"
   ]
  },
  {
   "cell_type": "code",
   "execution_count": 140,
   "metadata": {
    "execution": {
     "iopub.execute_input": "2025-02-04T12:34:10.397527Z",
     "iopub.status.busy": "2025-02-04T12:34:10.396852Z",
     "iopub.status.idle": "2025-02-04T12:34:10.404922Z",
     "shell.execute_reply": "2025-02-04T12:34:10.403681Z",
     "shell.execute_reply.started": "2025-02-04T12:34:10.397491Z"
    }
   },
   "outputs": [],
   "source": [
    "y_pred_final = final_model.predict(X_test)"
   ]
  },
  {
   "cell_type": "code",
   "execution_count": 137,
   "metadata": {
    "execution": {
     "iopub.execute_input": "2025-02-04T12:31:18.905562Z",
     "iopub.status.busy": "2025-02-04T12:31:18.905116Z",
     "iopub.status.idle": "2025-02-04T12:31:19.185611Z",
     "shell.execute_reply": "2025-02-04T12:31:19.184481Z",
     "shell.execute_reply.started": "2025-02-04T12:31:18.905529Z"
    }
   },
   "outputs": [
    {
     "data": {
      "image/png": "[encoded data removed]",
      "text/plain": [
       "<Figure size 1200x600 with 1 Axes>"
      ]
     },
     "metadata": {},
     "output_type": "display_data"
    }
   ],
   "source": [
    "plt.figure(figsize=(12, 6))\n",
    "plt.plot(y_test.values, label=\"Gerçek Değerler\", color='black', linestyle='dashed')\n",
    "plt.plot(y_pred_final, label=\"Tahmin Edilen\", color='blue')\n",
    "plt.xlabel(\"Zaman\")\n",
    "plt.ylabel(\"Fiyat\")\n",
    "plt.title(\"📌 Gerçek vs. Model Tahmini (Linear Regression)\")\n",
    "plt.legend()\n",
    "plt.show()"
   ]
  },
  {
   "cell_type": "code",
   "execution_count": 144,
   "metadata": {
    "execution": {
     "iopub.execute_input": "2025-02-04T12:38:55.007978Z",
     "iopub.status.busy": "2025-02-04T12:38:55.007616Z",
     "iopub.status.idle": "2025-02-04T12:38:55.329150Z",
     "shell.execute_reply": "2025-02-04T12:38:55.328073Z",
     "shell.execute_reply.started": "2025-02-04T12:38:55.007949Z"
    }
   },
   "outputs": [
    {
     "data": {
      "image/png": "[encoded data removed]",
      "text/plain": [
       "<Figure size 1000x600 with 1 Axes>"
      ]
     },
     "metadata": {},
     "output_type": "display_data"
    }
   ],
   "source": [
    "plt.figure(figsize=(10, 6))\n",
    "\n",
    "# Gerçek değerleri gösteren scatter plot\n",
    "plt.scatter(range(len(y_test)), y_test, color='blue', alpha=0.6, label=\"Gerçek Değerler\")\n",
    "\n",
    "# Modelin tahmin ettiği değerleri gösteren scatter plot\n",
    "plt.scatter(range(len(y_test)), y_pred_final, color='orange', alpha=0.6, label=\"Tahmin Edilen Değerler\")\n",
    "\n",
    "# Kırmızı çizgi: tahmin çizgisi\n",
    "plt.plot(range(len(y_test)), y_test, color='red', linestyle='--', linewidth=1, label=\"Gerçek Değer Çizgisi\")\n",
    "\n",
    "plt.xlabel(\"Örnekler (Index)\")\n",
    "plt.ylabel(\"Fiyat Değeri\")\n",
    "plt.title(\"📌 Linear Regression - Gerçek vs. Tahmin\")\n",
    "plt.legend()\n",
    "plt.show()"
   ]
  },
  {
   "cell_type": "code",
   "execution_count": 145,
   "metadata": {
    "execution": {
     "iopub.execute_input": "2025-02-04T12:39:24.231771Z",
     "iopub.status.busy": "2025-02-04T12:39:24.231303Z",
     "iopub.status.idle": "2025-02-04T12:39:24.246543Z",
     "shell.execute_reply": "2025-02-04T12:39:24.245049Z",
     "shell.execute_reply.started": "2025-02-04T12:39:24.231739Z"
    }
   },
   "outputs": [
    {
     "name": "stdout",
     "output_type": "stream",
     "text": [
      "📌 En Büyük 10 Tahmin Hatası:\n",
      "            Gerçek Değer      Tahmin       Hata\n",
      "Date                                           \n",
      "2023-03-21    293.899994  309.632654  15.732660\n",
      "2023-02-10    358.570007  343.166751  15.403256\n",
      "2023-02-13    359.959991  348.212682  11.747310\n",
      "2023-03-14    303.790009  293.872634   9.917374\n",
      "2023-04-26    304.829987  296.002943   8.827044\n",
      "2023-03-23    328.390015  322.707953   5.682062\n",
      "2023-04-12    165.559998  159.909380   5.650617\n",
      "2023-02-23    249.220001  254.438349   5.218348\n",
      "2023-02-15    262.149994  267.089062   4.939068\n",
      "2023-02-13    271.490021  266.869198   4.620822\n"
     ]
    }
   ],
   "source": [
    "prediction_errors = pd.DataFrame({\"Gerçek Değer\": y_test, \"Tahmin\": y_pred_final})\n",
    "prediction_errors[\"Hata\"] = abs(prediction_errors[\"Gerçek Değer\"] - prediction_errors[\"Tahmin\"])\n",
    "\n",
    "print(\"📌 En Büyük 10 Tahmin Hatası:\")\n",
    "print(prediction_errors.sort_values(by=\"Hata\", ascending=False).head(10))"
   ]
  },
  {
   "cell_type": "code",
   "execution_count": null,
   "metadata": {},
   "outputs": [],
   "source": []
  }
 ],
 "metadata": {
  "kaggle": {
   "accelerator": "none",
   "dataSources": [
    {
     "datasetId": 3318697,
     "sourceId": 5774697,
     "sourceType": "datasetVersion"
    }
   ],
   "dockerImageVersionId": 30839,
   "isGpuEnabled": false,
   "isInternetEnabled": true,
   "language": "python",
   "sourceType": "notebook"
  },
  "kernelspec": {
   "display_name": "Python 3",
   "language": "python",
   "name": "python3"
  },
  "language_info": {
   "codemirror_mode": {
    "name": "ipython",
    "version": 3
   },
   "file_extension": ".py",
   "mimetype": "text/x-python",
   "name": "python",
   "nbconvert_exporter": "python",
   "pygments_lexer": "ipython3",
   "version": "3.10.12"
  }
 },
 "nbformat": 4,
 "nbformat_minor": 4
}
